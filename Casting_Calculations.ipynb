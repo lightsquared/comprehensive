{
  "nbformat": 4,
  "nbformat_minor": 0,
  "metadata": {
    "kernel_info": {
      "name": "python3"
    },
    "kernelspec": {
      "name": "python3",
      "language": "python",
      "display_name": "Python 3"
    },
    "language_info": {
      "name": "python",
      "version": "3.8.1",
      "mimetype": "text/x-python",
      "codemirror_mode": {
        "name": "ipython",
        "version": 3
      },
      "pygments_lexer": "ipython3",
      "nbconvert_exporter": "python",
      "file_extension": ".py"
    },
    "nteract": {
      "version": "0.22.0"
    },
    "colab": {
      "name": "Copy of Casting Calculations.ipynb",
      "provenance": [],
      "include_colab_link": true
    }
  },
  "cells": [
    {
      "cell_type": "markdown",
      "metadata": {
        "id": "view-in-github",
        "colab_type": "text"
      },
      "source": [
        "<a href=\"https://colab.research.google.com/github/lightsquared/comprehensive/blob/master/Casting_Calculations.ipynb\" target=\"_parent\"><img src=\"https://colab.research.google.com/assets/colab-badge.svg\" alt=\"Open In Colab\"/></a>"
      ]
    },
    {
      "cell_type": "markdown",
      "metadata": {
        "collapsed": false,
        "outputHidden": false,
        "inputHidden": false,
        "id": "VqSpI-ZV8HOO",
        "colab_type": "text"
      },
      "source": [
        "# Dissertation Lab Notebook\n",
        "## S. Kevin McNeill"
      ]
    },
    {
      "cell_type": "markdown",
      "metadata": {
        "id": "iPtmygWW8HOP",
        "colab_type": "text"
      },
      "source": [
        "Need to calculate the diameter of a $1/2\\:lb$ hemispherical charge of TNT."
      ]
    },
    {
      "cell_type": "code",
      "metadata": {
        "outputHidden": false,
        "inputHidden": false,
        "execution": {
          "iopub.status.busy": "2020-03-25T14:40:38.491Z",
          "iopub.execute_input": "2020-03-25T14:40:38.501Z",
          "iopub.status.idle": "2020-03-25T14:40:40.023Z",
          "shell.execute_reply": "2020-03-25T14:40:40.027Z"
        },
        "id": "hkRTgo3D8HOQ",
        "colab_type": "code",
        "outputId": "86948fe6-145e-4507-fcec-d14065f65a28",
        "colab": {
          "base_uri": "https://localhost:8080/",
          "height": 139
        }
      },
      "source": [
        "!pip install pint\n",
        "from pint import UnitRegistry\n",
        "import numpy as np\n",
        "u = UnitRegistry()\n",
        "u.auto_reduce_dimensions = True"
      ],
      "execution_count": 0,
      "outputs": [
        {
          "output_type": "stream",
          "text": [
            "Collecting pint\n",
            "\u001b[?25l  Downloading https://files.pythonhosted.org/packages/9d/db/7a2204b03c22069839958df5723eb2718d50c33052e0da84c9a83de14ea4/Pint-0.11-py2.py3-none-any.whl (186kB)\n",
            "\r\u001b[K     |█▊                              | 10kB 17.0MB/s eta 0:00:01\r\u001b[K     |███▌                            | 20kB 1.8MB/s eta 0:00:01\r\u001b[K     |█████▎                          | 30kB 2.3MB/s eta 0:00:01\r\u001b[K     |███████                         | 40kB 1.7MB/s eta 0:00:01\r\u001b[K     |████████▉                       | 51kB 1.9MB/s eta 0:00:01\r\u001b[K     |██████████▋                     | 61kB 2.2MB/s eta 0:00:01\r\u001b[K     |████████████▎                   | 71kB 2.4MB/s eta 0:00:01\r\u001b[K     |██████████████                  | 81kB 2.5MB/s eta 0:00:01\r\u001b[K     |███████████████▉                | 92kB 2.8MB/s eta 0:00:01\r\u001b[K     |█████████████████▋              | 102kB 2.8MB/s eta 0:00:01\r\u001b[K     |███████████████████▍            | 112kB 2.8MB/s eta 0:00:01\r\u001b[K     |█████████████████████▏          | 122kB 2.8MB/s eta 0:00:01\r\u001b[K     |███████████████████████         | 133kB 2.8MB/s eta 0:00:01\r\u001b[K     |████████████████████████▋       | 143kB 2.8MB/s eta 0:00:01\r\u001b[K     |██████████████████████████▍     | 153kB 2.8MB/s eta 0:00:01\r\u001b[K     |████████████████████████████▏   | 163kB 2.8MB/s eta 0:00:01\r\u001b[K     |██████████████████████████████  | 174kB 2.8MB/s eta 0:00:01\r\u001b[K     |███████████████████████████████▊| 184kB 2.8MB/s eta 0:00:01\r\u001b[K     |████████████████████████████████| 194kB 2.8MB/s \n",
            "\u001b[?25hRequirement already satisfied: setuptools in /usr/local/lib/python3.6/dist-packages (from pint) (46.1.3)\n",
            "Installing collected packages: pint\n",
            "Successfully installed pint-0.11\n"
          ],
          "name": "stdout"
        }
      ]
    },
    {
      "cell_type": "markdown",
      "metadata": {
        "id": "sXtEmohp8HOX",
        "colab_type": "text"
      },
      "source": [
        "The density of cast TNT ranges between $1.5\\:g/cc$ and $1.6\\:g/cc$ \\[1]  The weight of explosives to be used in the tests is $1/2\\:lb$.  Therefore, the the volume of explosives required is,"
      ]
    },
    {
      "cell_type": "code",
      "metadata": {
        "outputHidden": false,
        "inputHidden": false,
        "execution": {
          "iopub.status.busy": "2020-03-25T14:51:28.594Z",
          "iopub.execute_input": "2020-03-25T14:51:28.598Z",
          "iopub.status.idle": "2020-03-25T14:51:28.606Z",
          "shell.execute_reply": "2020-03-25T14:51:28.610Z"
        },
        "id": "6RaXnEfk8HOY",
        "colab_type": "code",
        "outputId": "51f186bc-d206-4288-de04-949a5c818e8e",
        "colab": {
          "base_uri": "https://localhost:8080/",
          "height": 34
        }
      },
      "source": [
        "density_TNT = 1.5*u.gram / u.cubic_centimeter\n",
        "weight_TNT = 0.5*u.pound\n",
        "volume_TNT = weight_TNT / density_TNT\n",
        "print(volume_TNT.to_compact())"
      ],
      "execution_count": 0,
      "outputs": [
        {
          "output_type": "stream",
          "text": [
            "151.19745666666668 cubic_centimeter\n"
          ],
          "name": "stdout"
        }
      ]
    },
    {
      "cell_type": "markdown",
      "metadata": {
        "nteract": {
          "transient": {
            "deleting": false
          }
        },
        "id": "fS1bgHVF8HOe",
        "colab_type": "text"
      },
      "source": [
        "The density of bulk PETN ranges between $800\\:kg/m^3$ and $900\\:kg/m^3$ \\[2]  The weight of explosives to be used in the tests is $1/2\\:lb$.  Therefore, the the volume of explosives required is,"
      ]
    },
    {
      "cell_type": "code",
      "metadata": {
        "jupyter": {
          "source_hidden": false,
          "outputs_hidden": false
        },
        "nteract": {
          "transient": {
            "deleting": false
          }
        },
        "execution": {
          "iopub.status.busy": "2020-03-25T14:56:03.909Z",
          "iopub.execute_input": "2020-03-25T14:56:03.913Z",
          "iopub.status.idle": "2020-03-25T14:56:03.918Z",
          "shell.execute_reply": "2020-03-25T14:56:03.920Z"
        },
        "id": "Jz57tdWe8HOf",
        "colab_type": "code",
        "outputId": "dfaebece-bf4d-4792-884a-ae8d54a0685f",
        "colab": {
          "base_uri": "https://localhost:8080/",
          "height": 34
        }
      },
      "source": [
        "density_PETN = 850*u.kilogram / u.meter**3\n",
        "weight_PETN = 0.5*u.pound\n",
        "volume_PETN = (weight_PETN / density_PETN).to('cubic_centimeters')\n",
        "print(volume_PETN)"
      ],
      "execution_count": 0,
      "outputs": [
        {
          "output_type": "stream",
          "text": [
            "266.8190411764706 cubic_centimeter\n"
          ],
          "name": "stdout"
        }
      ]
    },
    {
      "cell_type": "markdown",
      "metadata": {
        "nteract": {
          "transient": {
            "deleting": false
          }
        },
        "id": "0qS-Ej4g8HOk",
        "colab_type": "text"
      },
      "source": [
        "The density of Dyno AP is $1.5\\:g/cc$ \\[3]  The weight of explosives to be used in the tests is $1/2\\:lb$.  Therefore, the the volume of explosives required is,"
      ]
    },
    {
      "cell_type": "code",
      "metadata": {
        "jupyter": {
          "source_hidden": false,
          "outputs_hidden": false
        },
        "nteract": {
          "transient": {
            "deleting": false
          }
        },
        "execution": {
          "iopub.status.busy": "2020-03-25T15:11:53.914Z",
          "iopub.execute_input": "2020-03-25T15:11:53.917Z",
          "iopub.status.idle": "2020-03-25T15:11:53.922Z",
          "shell.execute_reply": "2020-03-25T15:11:53.929Z"
        },
        "id": "UF3xSzPR8HOl",
        "colab_type": "code",
        "outputId": "15914b27-9f86-4c6e-e81f-20aa4d635292",
        "colab": {
          "base_uri": "https://localhost:8080/",
          "height": 34
        }
      },
      "source": [
        "density_dynoap = 1.5*u.gram / u.cubic_centimeter\n",
        "weight_dynoap = 0.5*u.pound\n",
        "volume_dynoap = weight_dynoap / density_dynoap\n",
        "print(volume_dynoap.to_compact())"
      ],
      "execution_count": 0,
      "outputs": [
        {
          "output_type": "stream",
          "text": [
            "151.19745666666668 cubic_centimeter\n"
          ],
          "name": "stdout"
        }
      ]
    },
    {
      "cell_type": "markdown",
      "metadata": {
        "id": "dYUGL58a8HOo",
        "colab_type": "text"
      },
      "source": [
        "The formula for a hemisphere is $V = \\frac{2}{3}\\pi r^3$.  Therefore, the $r=\\sqrt[3]{\\frac{3}{2\\pi}V}$."
      ]
    },
    {
      "cell_type": "code",
      "metadata": {
        "outputHidden": false,
        "inputHidden": false,
        "execution": {
          "iopub.status.busy": "2020-03-25T15:33:04.828Z",
          "iopub.execute_input": "2020-03-25T15:33:04.832Z",
          "iopub.status.idle": "2020-03-25T15:33:04.838Z",
          "shell.execute_reply": "2020-03-25T15:33:04.844Z"
        },
        "id": "iN69WrFM8HOo",
        "colab_type": "code",
        "outputId": "a0484f33-b95a-4049-e8d1-639576e60eff",
        "colab": {
          "base_uri": "https://localhost:8080/",
          "height": 68
        }
      },
      "source": [
        "r_TNT = (3/(2*np.pi)*volume_TNT)**(1/3)\n",
        "r_PETN = (3/(2*np.pi)*volume_PETN)**(1/3)\n",
        "r_dynoap = (3/(2*np.pi)*volume_dynoap)**(1/3)\n",
        "print('The radius of the mold for TNT is {:.3f}'.format(r_TNT.to( u.millimeter )))\n",
        "print('The radius of the mold for PETN is {:.3f}'.format(r_PETN.to( u.millimeter )))\n",
        "print('The radius of the mold for DynoAP is {:.3f}'.format(r_dynoap.to( u.millimeter )))"
      ],
      "execution_count": 0,
      "outputs": [
        {
          "output_type": "stream",
          "text": [
            "The radius of the mold for TNT is 41.639 millimeter\n",
            "The radius of the mold for PETN is 50.318 millimeter\n",
            "The radius of the mold for DynoAP is 41.639 millimeter\n"
          ],
          "name": "stdout"
        }
      ]
    },
    {
      "cell_type": "markdown",
      "metadata": {
        "id": "bIir9o43e8tn",
        "colab_type": "text"
      },
      "source": [
        "Thre RP-83 is 39.625 mm long.  The neck occurs at 9.070 mm from the base of the RP-83.  The diameter of the RP-83 is 7.112 mm.  The geometric center of a hemisphere is 1/3 of the radius:"
      ]
    },
    {
      "cell_type": "code",
      "metadata": {
        "id": "-H5NQx_Ie5-l",
        "colab_type": "code",
        "outputId": "95c28811-ec8b-4c92-976f-ef9f1931a8b2",
        "colab": {
          "base_uri": "https://localhost:8080/",
          "height": 68
        }
      },
      "source": [
        "geo_ctr_tnt = r_TNT/3\n",
        "geo_ctr_petn = r_PETN/3\n",
        "geo_ctr_dap = r_dynoap/3\n",
        "\n",
        "\n",
        "print('The geometric center for TNT is {:.3f}'.format(geo_ctr_tnt.to( u.millimeter )))\n",
        "print('The geometric center for PETN is {:.3f}'.format(geo_ctr_petn.to( u.millimeter )))\n",
        "print('The geometric center for DynoAP is {:.3f}'.format(geo_ctr_dap.to( u.millimeter )))"
      ],
      "execution_count": 0,
      "outputs": [
        {
          "output_type": "stream",
          "text": [
            "The geometric center for TNT is 13.880 millimeter\n",
            "The geometric center for PETN is 16.773 millimeter\n",
            "The geometric center for DynoAP is 13.880 millimeter\n"
          ],
          "name": "stdout"
        }
      ]
    },
    {
      "cell_type": "markdown",
      "metadata": {
        "id": "w2vqJ7yRgSGm",
        "colab_type": "text"
      },
      "source": [
        "The standoff needed so that the RP-83 reaches the geometric center for each mold is:"
      ]
    },
    {
      "cell_type": "code",
      "metadata": {
        "id": "Cn9YgaeOgZ7f",
        "colab_type": "code",
        "outputId": "bfff99d6-ed91-4b79-997a-62889bd1347e",
        "colab": {
          "base_uri": "https://localhost:8080/",
          "height": 68
        }
      },
      "source": [
        "len_RP83 = 39.625*u.mm\n",
        "len_RP83_flair = 9.07*u.mm\n",
        "len_stop_tnt = len_RP83 - geo_ctr_tnt - len_RP83_flair\n",
        "len_stop_petn = len_RP83 - geo_ctr_petn - len_RP83_flair\n",
        "len_stop_dap = len_RP83 - geo_ctr_dap - len_RP83_flair\n",
        "print('The length of the stop for TNT is {:.3f}'.format(len_stop_tnt))\n",
        "print('The length of the stop for PETN is {:.3f}'.format(len_stop_petn))\n",
        "print('The length of the stop for Dyno AP is {:.3f}'.format(len_stop_dap))"
      ],
      "execution_count": 0,
      "outputs": [
        {
          "output_type": "stream",
          "text": [
            "The length of the stop for TNT is 16.675 millimeter\n",
            "The length of the stop for PETN is 13.782 millimeter\n",
            "The length of the stop for Dyno AP is 16.675 millimeter\n"
          ],
          "name": "stdout"
        }
      ]
    },
    {
      "cell_type": "markdown",
      "metadata": {
        "id": "GtOH5eej8HOr",
        "colab_type": "text"
      },
      "source": [
        "## Bibliography\n",
        "1.  LLNL Explosives Handbook - Properties of Chemical Explosives and Explosive Stimulants, June 1985, Page 19-134\n",
        "2.  Eurenco. (2020). Pentrite (PETN). Retrieved March 25, 2020, from http://www.eurenco.com/wp-content/uploads/2013/07/PETN.pdf\n",
        "3.  Dyno Nobel. (2020). Technical Information Properties DYNO ® AP Small Diameter Detonator Sensitive Emulsion. Salt Lake City, UT. Retrieved from www.dynonobel.com"
      ]
    },
    {
      "cell_type": "markdown",
      "metadata": {
        "id": "lIIB1EWe8HOs",
        "colab_type": "text"
      },
      "source": [
        ""
      ]
    }
  ]
}