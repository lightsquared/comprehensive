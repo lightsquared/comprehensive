{
  "cells": [
    {
      "cell_type": "code",
      "source": [
        "import camelot"
      ],
      "outputs": [],
      "execution_count": 1,
      "metadata": {
        "execution": {
          "iopub.status.busy": "2020-03-20T03:58:43.188Z",
          "iopub.execute_input": "2020-03-20T03:58:43.193Z",
          "iopub.status.idle": "2020-03-20T03:58:43.914Z",
          "shell.execute_reply": "2020-03-20T03:58:43.919Z"
        }
      }
    },
    {
      "cell_type": "code",
      "source": [
        "data_5tn = camelot.read_pdf('kingery_1966_5tn_ppd.pdf', flavor='stream')\n",
        "data_20tn = camelot.read_pdf('kingery_1966_20tn_ppd.pdf', flavor='stream')\n",
        "data_100tn = camelot.read_pdf('kingery_1966_100tn_ppd.pdf', flavor='stream')\n",
        "data_500tn = camelot.read_pdf('kingery_1966_500tn_ppd.pdf', flavor='stream')"
      ],
      "outputs": [],
      "execution_count": 3,
      "metadata": {
        "execution": {
          "iopub.status.busy": "2020-03-20T03:59:25.279Z",
          "iopub.execute_input": "2020-03-20T03:59:25.282Z",
          "iopub.status.idle": "2020-03-20T03:59:26.404Z",
          "shell.execute_reply": "2020-03-20T03:59:26.406Z"
        }
      }
    },
    {
      "cell_type": "code",
      "source": [
        "data_5tn[0].to_csv('data_5tn_ppd.csv')\n",
        "data_20tn[0].to_csv('data_20tn_ppd.csv')\n",
        "data_100tn[0].to_csv('data_100tn_ppd.csv')\n",
        "data_500tn[0].to_csv('data_500tn_ppd.csv')"
      ],
      "outputs": [],
      "execution_count": 4,
      "metadata": {
        "execution": {
          "iopub.status.busy": "2020-03-20T03:59:42.932Z",
          "iopub.execute_input": "2020-03-20T03:59:42.934Z",
          "iopub.status.idle": "2020-03-20T03:59:42.948Z",
          "shell.execute_reply": "2020-03-20T03:59:42.950Z"
        }
      }
    }
  ],
  "metadata": {
    "kernelspec": {
      "display_name": "camelot",
      "language": "python",
      "name": "camelot"
    },
    "language_info": {
      "name": "python",
      "version": "3.7.6",
      "mimetype": "text/x-python",
      "codemirror_mode": {
        "name": "ipython",
        "version": 3
      },
      "pygments_lexer": "ipython3",
      "nbconvert_exporter": "python",
      "file_extension": ".py"
    },
    "nteract": {
      "version": "0.22.0"
    }
  },
  "nbformat": 4,
  "nbformat_minor": 4
}