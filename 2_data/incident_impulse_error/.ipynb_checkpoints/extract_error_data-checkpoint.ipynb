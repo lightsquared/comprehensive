{
 "cells": [
  {
   "cell_type": "code",
   "execution_count": 2,
   "metadata": {},
   "outputs": [],
   "source": [
    "import camelot"
   ]
  },
  {
   "cell_type": "code",
   "execution_count": 3,
   "metadata": {},
   "outputs": [],
   "source": [
    "error_data_28 = camelot.read_pdf('kingery-1966-28.pdf', flavor='stream')\n",
    "error_data_29 = camelot.read_pdf('kingery-1966-29.pdf', flavor='stream')\n",
    "error_data_30 = camelot.read_pdf('kingery-1966-30.pdf', flavor='stream')\n",
    "error_data_31 = camelot.read_pdf('kingery-1966-31.pdf', flavor='stream')"
   ]
  },
  {
   "cell_type": "code",
   "execution_count": 4,
   "metadata": {},
   "outputs": [],
   "source": [
    "error_data_28[0].to_csv('28.csv')\n",
    "error_data_29[0].to_csv('29.csv')\n",
    "error_data_30[0].to_csv('30.csv')\n",
    "error_data_31[0].to_csv('31.csv')"
   ]
  }
 ],
 "metadata": {
  "kernelspec": {
   "display_name": "camelot",
   "language": "python",
   "name": "camelot"
  },
  "language_info": {
   "codemirror_mode": {
    "name": "ipython",
    "version": 3
   },
   "file_extension": ".py",
   "mimetype": "text/x-python",
   "name": "python",
   "nbconvert_exporter": "python",
   "pygments_lexer": "ipython3",
   "version": "3.7.6"
  }
 },
 "nbformat": 4,
 "nbformat_minor": 4
}
