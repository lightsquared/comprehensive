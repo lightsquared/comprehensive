{
  "cells": [
    {
      "cell_type": "code",
      "source": [
        "import camelot"
      ],
      "outputs": [],
      "execution_count": 1,
      "metadata": {}
    },
    {
      "cell_type": "code",
      "source": [
        "error_data_58 = camelot.read_pdf('58.pdf', flavor='stream')\n",
        "error_data_59 = camelot.read_pdf('59.pdf', flavor='stream')"
      ],
      "outputs": [],
      "execution_count": 2,
      "metadata": {}
    },
    {
      "cell_type": "code",
      "source": [
        "error_data_58[0].to_csv('58.csv')\n",
        "error_data_59[0].to_csv('59.csv')"
      ],
      "outputs": [],
      "execution_count": 4,
      "metadata": {}
    }
  ],
  "metadata": {
    "kernelspec": {
      "display_name": "camelot",
      "language": "python",
      "name": "camelot"
    },
    "language_info": {
      "name": "python",
      "version": "3.7.6",
      "mimetype": "text/x-python",
      "codemirror_mode": {
        "name": "ipython",
        "version": 3
      },
      "pygments_lexer": "ipython3",
      "nbconvert_exporter": "python",
      "file_extension": ".py"
    },
    "nteract": {
      "version": "0.21.0"
    }
  },
  "nbformat": 4,
  "nbformat_minor": 4
}