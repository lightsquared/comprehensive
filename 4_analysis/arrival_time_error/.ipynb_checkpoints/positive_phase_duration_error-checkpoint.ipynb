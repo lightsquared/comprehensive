{
 "cells": [
  {
   "cell_type": "code",
   "execution_count": 116,
   "metadata": {},
   "outputs": [],
   "source": [
    "import numpy as np\n",
    "import pandas as pd\n",
    "#from io import StringIO\n",
    "import os\n",
    "from scipy.optimize import curve_fit\n",
    "from scipy.optimize import differential_evolution\n",
    "import warnings\n",
    "\n",
    "# Visualizations\n",
    "import matplotlib.pyplot as plt\n",
    "%matplotlib inline\n",
    "h = 8\n",
    "w = h*1.61803398875\n",
    "font = {'family' : 'Times New Roman',\n",
    "        'weight' : 'bold',\n",
    "        'size'   : 26}\n",
    "\n",
    "plt.rc('font', **font)\n",
    "\n",
    "#from matplotlib import rc\n",
    "plt.rc('font',**{'family':'serif','serif':['Times New Roman']})\n",
    "plt.rc('text', usetex=True)\n",
    "\n",
    "h = 8\n",
    "w = 8*1.61803398875"
   ]
  },
  {
   "cell_type": "code",
   "execution_count": 117,
   "metadata": {},
   "outputs": [],
   "source": [
    "# Data the KB Curve is Based Upon\n",
    "working_dir = os.path.join(os.path.expanduser(\"~\"), \"Documents/github/comprehensive/\")\n",
    "data_path = \"2_data/positive_phase_duration_error/kingery_1966_re.csv\"\n",
    "filePath = os.path.join(working_dir, data_path)\n",
    "re_data = pd.read_csv(filePath)"
   ]
  },
  {
   "cell_type": "code",
   "execution_count": 118,
   "metadata": {},
   "outputs": [
    {
     "data": {
      "text/html": [
       "<div>\n",
       "<style scoped>\n",
       "    .dataframe tbody tr th:only-of-type {\n",
       "        vertical-align: middle;\n",
       "    }\n",
       "\n",
       "    .dataframe tbody tr th {\n",
       "        vertical-align: top;\n",
       "    }\n",
       "\n",
       "    .dataframe thead th {\n",
       "        text-align: right;\n",
       "    }\n",
       "</style>\n",
       "<table border=\"1\" class=\"dataframe\">\n",
       "  <thead>\n",
       "    <tr style=\"text-align: right;\">\n",
       "      <th></th>\n",
       "      <th>REMin</th>\n",
       "      <th>REMax</th>\n",
       "    </tr>\n",
       "    <tr>\n",
       "      <th>scaled_distance</th>\n",
       "      <th></th>\n",
       "      <th></th>\n",
       "    </tr>\n",
       "  </thead>\n",
       "  <tbody>\n",
       "    <tr>\n",
       "      <th>0.487</th>\n",
       "      <td>-0.005756</td>\n",
       "      <td>-0.005756</td>\n",
       "    </tr>\n",
       "    <tr>\n",
       "      <th>0.789</th>\n",
       "      <td>0.035294</td>\n",
       "      <td>0.035294</td>\n",
       "    </tr>\n",
       "    <tr>\n",
       "      <th>1.142</th>\n",
       "      <td>-0.063259</td>\n",
       "      <td>0.011134</td>\n",
       "    </tr>\n",
       "    <tr>\n",
       "      <th>1.285</th>\n",
       "      <td>-0.300397</td>\n",
       "      <td>-0.002206</td>\n",
       "    </tr>\n",
       "    <tr>\n",
       "      <th>1.492</th>\n",
       "      <td>0.186405</td>\n",
       "      <td>0.186405</td>\n",
       "    </tr>\n",
       "  </tbody>\n",
       "</table>\n",
       "</div>"
      ],
      "text/plain": [
       "                    REMin     REMax\n",
       "scaled_distance                    \n",
       "0.487           -0.005756 -0.005756\n",
       "0.789            0.035294  0.035294\n",
       "1.142           -0.063259  0.011134\n",
       "1.285           -0.300397 -0.002206\n",
       "1.492            0.186405  0.186405"
      ]
     },
     "execution_count": 118,
     "metadata": {},
     "output_type": "execute_result"
    }
   ],
   "source": [
    "df = (re_data.assign(Data_Value=re_data['y-y0/y0'].abs())\n",
    "       .groupby(['scaled_distance'])['y-y0/y0'].agg([('Min' , 'min'), ('Max', 'max')])\n",
    "       .add_prefix('RE'))\n",
    "df.head()"
   ]
  },
  {
   "cell_type": "code",
   "execution_count": 134,
   "metadata": {},
   "outputs": [
    {
     "data": {
      "image/png": "[encoded data removed]",
      "text/plain": [
       "<Figure size 931.988x576 with 1 Axes>"
      ]
     },
     "metadata": {
      "needs_background": "light"
     },
     "output_type": "display_data"
    }
   ],
   "source": [
    "re_data.values\n",
    "x = re_data.scaled_distance\n",
    "#y = abs(re_data['y-y0/y0']*100)\n",
    "y = re_data['y-y0/y0']*100\n",
    "\n",
    "x1 = df.index\n",
    "y_max = df.REMax*100\n",
    "y_min = df.REMin*100\n",
    "\n",
    "pltfont = {'fontname':'serif', 'fontsize':'16'}\n",
    "fig, ax = plt.subplots(figsize=(w, h))\n",
    "\n",
    "plt.grid(b=True, which='major', color='black', linestyle='-', linewidth=.1)\n",
    "#plt.grid(b=True, which='minor', color='black', linestyle='-', linewidth=.5)\n",
    "#plt.ylim(0.01,10)\n",
    "plt.xlim(0.10,100)\n",
    "c=0.025\n",
    "ax.bar(x, y, width=c*np.array(x))\n",
    "#ax.plot(x,y,'r.')\n",
    "ax.set_xscale(\"log\")\n",
    "\n",
    "plt.ylabel(r'Relative Error, $\\left(\\%\\right)$')\n",
    "plt.xlabel(r'Scaled Distance, $\\left(\\frac{ft}{lb^{1/3}}\\right)$')\n",
    "plt.tight_layout()\n",
    "#ax.annotate('local max', xy=(3.2, 1.7), xytext=(4.1, 4.1),\n",
    "#            arrowprops=dict(facecolor='black', shrink=0.05),\n",
    "#            )\n",
    "\n",
    "#data_path = \"5_reports/figures\"\n",
    "#file_name = \"fig_ppd_data.png\"\n",
    "#filePath = os.path.join(working_dir, data_path, file_name)\n",
    "#plt.savefig(filePath)\n",
    "\n",
    "plt.show()"
   ]
  }
 ],
 "metadata": {
  "kernel_info": {
   "name": "dissertation"
  },
  "kernelspec": {
   "display_name": "dissertation",
   "language": "python",
   "name": "dissertation"
  },
  "language_info": {
   "codemirror_mode": {
    "name": "ipython",
    "version": 3
   },
   "file_extension": ".py",
   "mimetype": "text/x-python",
   "name": "python",
   "nbconvert_exporter": "python",
   "pygments_lexer": "ipython3",
   "version": "3.8.1"
  },
  "nteract": {
   "version": "0.21.0"
  }
 },
 "nbformat": 4,
 "nbformat_minor": 4
}
