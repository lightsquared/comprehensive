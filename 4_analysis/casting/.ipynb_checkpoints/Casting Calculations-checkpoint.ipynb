version https://git-lfs.github.com/spec/v1
oid sha256:dbd9570363b0233d1fc8c96b6594802e32725880dffa13c20915c7ca4737f608
size 11128
