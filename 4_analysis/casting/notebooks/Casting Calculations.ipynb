{
  "cells": [
    {
      "cell_type": "markdown",
      "source": [
        "# Dissertation Lab Notebook\n",
        "## S. Kevin McNeill"
      ],
      "metadata": {
        "collapsed": false,
        "outputHidden": false,
        "inputHidden": false
      }
    },
    {
      "cell_type": "markdown",
      "source": [
        "Need to calculate the diameter of a $1\\:lb$ hemispherical charge of TNT."
      ],
      "metadata": {}
    },
    {
      "cell_type": "code",
      "source": [
        "from pint import UnitRegistry\n",
        "import numpy as np\n",
        "u = UnitRegistry()\n",
        "u.auto_reduce_dimensions = True"
      ],
      "outputs": [],
      "execution_count": 22,
      "metadata": {
        "collapsed": false,
        "outputHidden": false,
        "inputHidden": false
      }
    },
    {
      "cell_type": "markdown",
      "source": [
        "The density of cast TNT ranges between $1.5\\:g/cc$ and $1.6\\:g/cc$ \\[1]  The weight of explosives to be used the tests is $1\\:lb$.  Therefore, the the volume of explosives required is,"
      ],
      "metadata": {}
    },
    {
      "cell_type": "code",
      "source": [
        "\n",
        "density_TNT = 1.5*u.gram / u.cubic_centimeter\n",
        "weight_TNT = 1.0*u.pound\n",
        "volume_TNT = weight_TNT / density_TNT\n",
        "volume_TNT"
      ],
      "outputs": [
        {
          "output_type": "execute_result",
          "execution_count": 21,
          "data": {
            "text/plain": [
              "<Quantity(0.00030239491333333343, 'meter ** 3')>"
            ],
            "text/html": [
              "0.00030239491333333343 meter<sup>3</sup>"
            ],
            "text/latex": [
              "$0.00030239491333333343\\ \\mathrm{meter}^{3}$"
            ]
          },
          "metadata": {}
        }
      ],
      "execution_count": 21,
      "metadata": {
        "collapsed": false,
        "outputHidden": false,
        "inputHidden": false
      }
    },
    {
      "cell_type": "markdown",
      "source": [
        "The formula for a hemisphere is $V = \\frac{2}{3}\\pi r^3$.  Therefore, the $r=\\sqrt[3]{\\frac{3}{2\\pi}V}$."
      ],
      "metadata": {}
    },
    {
      "cell_type": "code",
      "source": [
        "r_TNT = (3/(2*np.pi)*volume_TNT)**(1/3)\n",
        "r_TNT.to( u.millimeter )"
      ],
      "outputs": [
        {
          "output_type": "execute_result",
          "execution_count": 29,
          "data": {
            "text/plain": [
              "<Quantity(52.46124858211057, 'millimeter')>"
            ],
            "text/html": [
              "52.46124858211057 millimeter"
            ],
            "text/latex": [
              "$52.46124858211057\\ \\mathrm{millimeter}$"
            ]
          },
          "metadata": {}
        }
      ],
      "execution_count": 29,
      "metadata": {
        "collapsed": false,
        "outputHidden": false,
        "inputHidden": false
      }
    },
    {
      "cell_type": "markdown",
      "source": [
        "## Bibliography\n",
        "1.  LLNL Explosives Handbook - Properties of Chemical Explosives and Explosive Stimulants, June 1985, Page 19-134"
      ],
      "metadata": {}
    },
    {
      "cell_type": "markdown",
      "source": [],
      "metadata": {}
    }
  ],
  "metadata": {
    "kernel_info": {
      "name": "python3"
    },
    "kernelspec": {
      "name": "python3",
      "language": "python",
      "display_name": "Python 3"
    },
    "language_info": {
      "name": "python",
      "version": "3.6.5",
      "mimetype": "text/x-python",
      "codemirror_mode": {
        "name": "ipython",
        "version": 3
      },
      "pygments_lexer": "ipython3",
      "nbconvert_exporter": "python",
      "file_extension": ".py"
    },
    "nteract": {
      "version": "0.8.4"
    }
  },
  "nbformat": 4,
  "nbformat_minor": 4
}