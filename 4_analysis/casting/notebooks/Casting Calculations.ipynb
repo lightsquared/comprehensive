{
  "cells": [
    {
      "cell_type": "markdown",
      "source": [
        "# Dissertation Lab Notebook\n",
        "## S. Kevin McNeill"
      ],
      "metadata": {
        "collapsed": false,
        "outputHidden": false,
        "inputHidden": false
      }
    },
    {
      "cell_type": "markdown",
      "source": [
        "Need to calculate the diameter of a $1/2\\:lb$ hemispherical charge of TNT."
      ],
      "metadata": {}
    },
    {
      "cell_type": "code",
      "source": [
        "from pint import UnitRegistry\n",
        "import numpy as np\n",
        "u = UnitRegistry()\n",
        "u.auto_reduce_dimensions = True"
      ],
      "outputs": [],
      "execution_count": 1,
      "metadata": {
        "collapsed": false,
        "outputHidden": false,
        "inputHidden": false,
        "execution": {
          "iopub.status.busy": "2020-03-25T14:40:38.491Z",
          "iopub.execute_input": "2020-03-25T14:40:38.501Z",
          "iopub.status.idle": "2020-03-25T14:40:40.023Z",
          "shell.execute_reply": "2020-03-25T14:40:40.027Z"
        }
      }
    },
    {
      "cell_type": "markdown",
      "source": [
        "The density of cast TNT ranges between $1.5\\:g/cc$ and $1.6\\:g/cc$ \\[1]  The weight of explosives to be used in the tests is $1/2\\:lb$.  Therefore, the the volume of explosives required is,"
      ],
      "metadata": {}
    },
    {
      "cell_type": "code",
      "source": [
        "density_TNT = 1.5*u.gram / u.cubic_centimeter\n",
        "weight_TNT = 0.5*u.pound\n",
        "volume_TNT = weight_TNT / density_TNT\n",
        "print(volume_TNT.to_compact())"
      ],
      "outputs": [
        {
          "output_type": "stream",
          "name": "stdout",
          "text": [
            "151.19745666666668 cubic_centimeter\n"
          ]
        }
      ],
      "execution_count": 11,
      "metadata": {
        "collapsed": false,
        "outputHidden": false,
        "inputHidden": false,
        "execution": {
          "iopub.status.busy": "2020-03-25T14:51:28.594Z",
          "iopub.execute_input": "2020-03-25T14:51:28.598Z",
          "iopub.status.idle": "2020-03-25T14:51:28.606Z",
          "shell.execute_reply": "2020-03-25T14:51:28.610Z"
        }
      }
    },
    {
      "cell_type": "markdown",
      "source": [
        "The density of bulk PETN ranges between $800\\:kg/m^3$ and $900\\:kg/m^3$ \\[2]  The weight of explosives to be used in the tests is $1/2\\:lb$.  Therefore, the the volume of explosives required is,"
      ],
      "metadata": {
        "nteract": {
          "transient": {
            "deleting": false
          }
        }
      }
    },
    {
      "cell_type": "code",
      "source": [
        "density_PETN = 850*u.kilogram / u.meter**3\n",
        "weight_PETN = 0.5*u.pound\n",
        "volume_PETN = (weight_PETN / density_PETN).to('cubic_centimeters')\n",
        "print(volume_PETN)"
      ],
      "outputs": [
        {
          "output_type": "stream",
          "name": "stdout",
          "text": [
            "266.8190411764706 cubic_centimeter\n"
          ]
        }
      ],
      "execution_count": 19,
      "metadata": {
        "collapsed": false,
        "jupyter": {
          "source_hidden": false,
          "outputs_hidden": false
        },
        "nteract": {
          "transient": {
            "deleting": false
          }
        },
        "execution": {
          "iopub.status.busy": "2020-03-25T14:56:03.909Z",
          "iopub.execute_input": "2020-03-25T14:56:03.913Z",
          "iopub.status.idle": "2020-03-25T14:56:03.918Z",
          "shell.execute_reply": "2020-03-25T14:56:03.920Z"
        }
      }
    },
    {
      "cell_type": "markdown",
      "source": [
        "The density of Dyno AP is $1.5\\:g/cc$ \\[3]  The weight of explosives to be used in the tests is $1/2\\:lb$.  Therefore, the the volume of explosives required is,"
      ],
      "metadata": {
        "nteract": {
          "transient": {
            "deleting": false
          }
        }
      }
    },
    {
      "cell_type": "code",
      "source": [
        "density_dynoap = 1.5*u.gram / u.cubic_centimeter\n",
        "weight_dynoap = 0.5*u.pound\n",
        "volume_dynoap = weight_dynoap / density_dynoap\n",
        "print(volume_dynoap.to_compact())"
      ],
      "outputs": [
        {
          "output_type": "stream",
          "name": "stdout",
          "text": [
            "151.19745666666668 cubic_centimeter\n"
          ]
        }
      ],
      "execution_count": 20,
      "metadata": {
        "collapsed": false,
        "jupyter": {
          "source_hidden": false,
          "outputs_hidden": false
        },
        "nteract": {
          "transient": {
            "deleting": false
          }
        },
        "execution": {
          "iopub.status.busy": "2020-03-25T15:11:53.914Z",
          "iopub.execute_input": "2020-03-25T15:11:53.917Z",
          "iopub.status.idle": "2020-03-25T15:11:53.922Z",
          "shell.execute_reply": "2020-03-25T15:11:53.929Z"
        }
      }
    },
    {
      "cell_type": "markdown",
      "source": [
        "The formula for a hemisphere is $V = \\frac{2}{3}\\pi r^3$.  Therefore, the $r=\\sqrt[3]{\\frac{3}{2\\pi}V}$."
      ],
      "metadata": {}
    },
    {
      "cell_type": "code",
      "source": [
        "r_TNT = (3/(2*np.pi)*volume_TNT)**(1/3)\n",
        "r_PETN = (3/(2*np.pi)*volume_PETN)**(1/3)\n",
        "r_dynoap = (3/(2*np.pi)*volume_dynoap)**(1/3)\n",
        "print('The radius of the mold for TNT is {:.3f}'.format(r_TNT.to( u.millimeter )))\n",
        "print('The radius of the mold for PETN is {:.3f}'.format(r_PETN.to( u.millimeter )))\n",
        "print('The radius of the mold for DynoAP is {:.3f}'.format(r_dynoap.to( u.millimeter )))"
      ],
      "outputs": [
        {
          "output_type": "stream",
          "name": "stdout",
          "text": [
            "The radius of the mold for TNT is 41.639 millimeter\n",
            "The radius of the mold for PETN is 50.318 millimeter\n",
            "The radius of the mold for DynoAP is 41.639 millimeter\n"
          ]
        }
      ],
      "execution_count": 27,
      "metadata": {
        "collapsed": false,
        "outputHidden": false,
        "inputHidden": false,
        "execution": {
          "iopub.status.busy": "2020-03-25T15:33:04.828Z",
          "iopub.execute_input": "2020-03-25T15:33:04.832Z",
          "iopub.status.idle": "2020-03-25T15:33:04.838Z",
          "shell.execute_reply": "2020-03-25T15:33:04.844Z"
        }
      }
    },
    {
      "cell_type": "markdown",
      "source": [
        "## Bibliography\n",
        "1.  LLNL Explosives Handbook - Properties of Chemical Explosives and Explosive Stimulants, June 1985, Page 19-134\n",
        "2.  Eurenco. (2020). Pentrite (PETN). Retrieved March 25, 2020, from http://www.eurenco.com/wp-content/uploads/2013/07/PETN.pdf\n",
        "3.  Dyno Nobel. (2020). Technical Information Properties DYNO ® AP Small Diameter Detonator Sensitive Emulsion. Salt Lake City, UT. Retrieved from www.dynonobel.com"
      ],
      "metadata": {}
    },
    {
      "cell_type": "markdown",
      "source": [],
      "metadata": {}
    }
  ],
  "metadata": {
    "kernel_info": {
      "name": "python3"
    },
    "kernelspec": {
      "name": "python3",
      "language": "python",
      "display_name": "Python 3"
    },
    "language_info": {
      "name": "python",
      "version": "3.8.1",
      "mimetype": "text/x-python",
      "codemirror_mode": {
        "name": "ipython",
        "version": 3
      },
      "pygments_lexer": "ipython3",
      "nbconvert_exporter": "python",
      "file_extension": ".py"
    },
    "nteract": {
      "version": "0.22.0"
    }
  },
  "nbformat": 4,
  "nbformat_minor": 4
}