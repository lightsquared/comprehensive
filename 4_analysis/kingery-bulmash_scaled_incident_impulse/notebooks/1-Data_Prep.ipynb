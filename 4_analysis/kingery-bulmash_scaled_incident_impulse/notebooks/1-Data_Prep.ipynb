{
  "cells": [
    {
      "cell_type": "markdown",
      "source": [
        "## Comprehensive Exam - Incident Impulse Plot Using Kingery Bulmash Data\n",
        "\n",
        "The notebook cleans the digitized data from the 1984 Kingery Bulmash study.\n",
        "\n",
        "### Data Sources\n",
        "- file1 : The data came from digitizing the original plots from the Kingery Bulmash paper.  There were 4 sets of data digitized:\n",
        "    - The Kingery Bulmash curve fit (seperate file).\n",
        "    - The plot of data from reference 2\n",
        "    - The plot of data from references 6 & 7\n",
        "    - The plot of data from reference 8\n",
        "    - The plot of data from reference 9\n",
        "\n",
        "### Changes\n",
        "- 12-17-2018 : Started project"
      ],
      "metadata": {}
    },
    {
      "cell_type": "code",
      "source": [
        "import pandas as pd\n",
        "from pathlib import Path\n",
        "from datetime import datetime"
      ],
      "outputs": [],
      "execution_count": 40,
      "metadata": {}
    },
    {
      "cell_type": "markdown",
      "source": [
        "### File Locations"
      ],
      "metadata": {}
    },
    {
      "cell_type": "code",
      "source": [
        "today = datetime.today()\n",
        "in_file_data_cv = Path.cwd().parents[2] / \"2_data\" / \"kingery-bulmash_scaled_incident_impulse\" / \"raw\" / \"KB_curve.csv\"\n",
        "in_file_data_rf = Path.cwd().parents[2] / \"2_data\" / \"kingery-bulmash_scaled_incident_impulse\" / \"raw\" / \"scaled_incident_impulse_data.csv\"\n",
        "summary_file = Path.cwd().parents[2] / \"2_data\" / \"kingery-bulmash_scaled_incident_impulse\" / \"processed\" / f\"summary_{today:%b-%d-%Y}.pkl\""
      ],
      "outputs": [],
      "execution_count": 41,
      "metadata": {}
    },
    {
      "cell_type": "code",
      "source": [
        "df_rf = pd.read_csv(in_file_data_rf)\n",
        "df_rf.head()"
      ],
      "outputs": [
        {
          "output_type": "execute_result",
          "execution_count": 42,
          "data": {
            "text/plain": [
              "       x        y Reference\n",
              "0  0.136  296.879     REF 9\n",
              "1  0.177  192.859     REF 9\n",
              "2  0.251   91.418     REF 9\n",
              "3  0.378   34.135     REF 9\n",
              "4  0.503   22.716     REF 9"
            ],
            "text/html": [
              "<div>\n",
              "<style scoped>\n",
              "    .dataframe tbody tr th:only-of-type {\n",
              "        vertical-align: middle;\n",
              "    }\n",
              "\n",
              "    .dataframe tbody tr th {\n",
              "        vertical-align: top;\n",
              "    }\n",
              "\n",
              "    .dataframe thead th {\n",
              "        text-align: right;\n",
              "    }\n",
              "</style>\n",
              "<table border=\"1\" class=\"dataframe\">\n",
              "  <thead>\n",
              "    <tr style=\"text-align: right;\">\n",
              "      <th></th>\n",
              "      <th>x</th>\n",
              "      <th>y</th>\n",
              "      <th>Reference</th>\n",
              "    </tr>\n",
              "  </thead>\n",
              "  <tbody>\n",
              "    <tr>\n",
              "      <th>0</th>\n",
              "      <td>0.136</td>\n",
              "      <td>296.879</td>\n",
              "      <td>REF 9</td>\n",
              "    </tr>\n",
              "    <tr>\n",
              "      <th>1</th>\n",
              "      <td>0.177</td>\n",
              "      <td>192.859</td>\n",
              "      <td>REF 9</td>\n",
              "    </tr>\n",
              "    <tr>\n",
              "      <th>2</th>\n",
              "      <td>0.251</td>\n",
              "      <td>91.418</td>\n",
              "      <td>REF 9</td>\n",
              "    </tr>\n",
              "    <tr>\n",
              "      <th>3</th>\n",
              "      <td>0.378</td>\n",
              "      <td>34.135</td>\n",
              "      <td>REF 9</td>\n",
              "    </tr>\n",
              "    <tr>\n",
              "      <th>4</th>\n",
              "      <td>0.503</td>\n",
              "      <td>22.716</td>\n",
              "      <td>REF 9</td>\n",
              "    </tr>\n",
              "  </tbody>\n",
              "</table>\n",
              "</div>"
            ]
          },
          "metadata": {}
        }
      ],
      "execution_count": 42,
      "metadata": {}
    },
    {
      "cell_type": "code",
      "source": [
        "df_cv = pd.read_csv(in_file_data_cv)\n",
        "df_cv.head()"
      ],
      "outputs": [
        {
          "output_type": "execute_result",
          "execution_count": 43,
          "data": {
            "text/plain": [
              "          x           y Reference\n",
              "0  0.136532  285.768505  kb_curve\n",
              "1  0.173323  189.008419  kb_curve\n",
              "2  0.207692  130.287052  kb_curve\n",
              "3  0.240823   95.950375  kb_curve\n",
              "4  0.270207   76.121630  kb_curve"
            ],
            "text/html": [
              "<div>\n",
              "<style scoped>\n",
              "    .dataframe tbody tr th:only-of-type {\n",
              "        vertical-align: middle;\n",
              "    }\n",
              "\n",
              "    .dataframe tbody tr th {\n",
              "        vertical-align: top;\n",
              "    }\n",
              "\n",
              "    .dataframe thead th {\n",
              "        text-align: right;\n",
              "    }\n",
              "</style>\n",
              "<table border=\"1\" class=\"dataframe\">\n",
              "  <thead>\n",
              "    <tr style=\"text-align: right;\">\n",
              "      <th></th>\n",
              "      <th>x</th>\n",
              "      <th>y</th>\n",
              "      <th>Reference</th>\n",
              "    </tr>\n",
              "  </thead>\n",
              "  <tbody>\n",
              "    <tr>\n",
              "      <th>0</th>\n",
              "      <td>0.136532</td>\n",
              "      <td>285.768505</td>\n",
              "      <td>kb_curve</td>\n",
              "    </tr>\n",
              "    <tr>\n",
              "      <th>1</th>\n",
              "      <td>0.173323</td>\n",
              "      <td>189.008419</td>\n",
              "      <td>kb_curve</td>\n",
              "    </tr>\n",
              "    <tr>\n",
              "      <th>2</th>\n",
              "      <td>0.207692</td>\n",
              "      <td>130.287052</td>\n",
              "      <td>kb_curve</td>\n",
              "    </tr>\n",
              "    <tr>\n",
              "      <th>3</th>\n",
              "      <td>0.240823</td>\n",
              "      <td>95.950375</td>\n",
              "      <td>kb_curve</td>\n",
              "    </tr>\n",
              "    <tr>\n",
              "      <th>4</th>\n",
              "      <td>0.270207</td>\n",
              "      <td>76.121630</td>\n",
              "      <td>kb_curve</td>\n",
              "    </tr>\n",
              "  </tbody>\n",
              "</table>\n",
              "</div>"
            ]
          },
          "metadata": {}
        }
      ],
      "execution_count": 43,
      "metadata": {
        "collapsed": false,
        "outputHidden": false,
        "inputHidden": false
      }
    },
    {
      "cell_type": "markdown",
      "source": [
        "### Column Cleanup\n",
        "\n",
        "- Remove all leading and trailing spaces\n",
        "- Rename the columns for consistency."
      ],
      "metadata": {}
    },
    {
      "cell_type": "code",
      "source": [
        "# https://stackoverflow.com/questions/30763351/removing-space-in-dataframe-python\n",
        "df_cv.columns = [x.strip() for x in df_cv.columns]\n",
        "df_rf.columns = [x.strip() for x in df_rf.columns]"
      ],
      "outputs": [],
      "execution_count": 44,
      "metadata": {}
    },
    {
      "cell_type": "code",
      "source": [
        "cols_to_rename1 = {'x': 'scaled_distance'}\n",
        "cols_to_rename2 = {'y': 'scaled_incident_impulse'}\n",
        "df_cv.rename(columns=cols_to_rename1, inplace=True)\n",
        "df_cv.rename(columns=cols_to_rename2, inplace=True)\n",
        "df_rf.rename(columns=cols_to_rename1, inplace=True)\n",
        "df_rf.rename(columns=cols_to_rename2, inplace=True)"
      ],
      "outputs": [],
      "execution_count": 45,
      "metadata": {}
    },
    {
      "cell_type": "markdown",
      "source": [
        "### Clean Up Data Types"
      ],
      "metadata": {}
    },
    {
      "cell_type": "code",
      "source": [
        "df_cv.dtypes"
      ],
      "outputs": [
        {
          "output_type": "execute_result",
          "execution_count": 46,
          "data": {
            "text/plain": [
              "scaled_distance            float64\n",
              "scaled_incident_impulse    float64\n",
              "Reference                   object\n",
              "dtype: object"
            ]
          },
          "metadata": {}
        }
      ],
      "execution_count": 46,
      "metadata": {}
    },
    {
      "cell_type": "markdown",
      "source": [
        "### Data Manipulation"
      ],
      "metadata": {}
    },
    {
      "cell_type": "code",
      "source": [
        "df_tot = df_cv.append(df_rf, ignore_index=True)"
      ],
      "outputs": [],
      "execution_count": 47,
      "metadata": {}
    },
    {
      "cell_type": "markdown",
      "source": [
        "### Save output file into processed directory\n",
        "\n",
        "Save a file in the processed directory that is cleaned properly. It will be read in and used later for further analysis.\n",
        "\n",
        "Other options besides pickle include:\n",
        "- feather\n",
        "- msgpack\n",
        "- parquet"
      ],
      "metadata": {}
    },
    {
      "cell_type": "code",
      "source": [
        "df_tot.to_pickle(summary_file)"
      ],
      "outputs": [],
      "execution_count": 48,
      "metadata": {}
    }
  ],
  "metadata": {
    "kernelspec": {
      "name": "python3",
      "language": "python",
      "display_name": "Python 3"
    },
    "language_info": {
      "name": "python",
      "version": "3.6.5",
      "mimetype": "text/x-python",
      "codemirror_mode": {
        "name": "ipython",
        "version": 3
      },
      "pygments_lexer": "ipython3",
      "nbconvert_exporter": "python",
      "file_extension": ".py"
    },
    "kernel_info": {
      "name": "python3"
    },
    "nteract": {
      "version": "0.12.3"
    }
  },
  "nbformat": 4,
  "nbformat_minor": 1
}