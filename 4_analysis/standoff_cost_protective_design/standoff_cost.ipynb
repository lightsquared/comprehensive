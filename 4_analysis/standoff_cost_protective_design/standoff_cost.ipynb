version https://git-lfs.github.com/spec/v1
oid sha256:f09e0edc9c9d66d32027efdc6bc6409cd3e487b84dbb50c384d286257309c117
size 139618
