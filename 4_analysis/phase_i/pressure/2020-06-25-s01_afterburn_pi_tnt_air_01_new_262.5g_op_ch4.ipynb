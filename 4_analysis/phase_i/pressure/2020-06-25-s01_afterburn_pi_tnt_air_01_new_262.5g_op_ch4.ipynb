version https://git-lfs.github.com/spec/v1
oid sha256:ad6cc731bf0b983bc775f344a68a82674cb221a779b92cb55a14db475fc17d35
size 445365
