version https://git-lfs.github.com/spec/v1
oid sha256:c2d333747dba003da6ba117ab6da2fdc970a7bfc6b299dc468c476b7a5b2c01a
size 478392
