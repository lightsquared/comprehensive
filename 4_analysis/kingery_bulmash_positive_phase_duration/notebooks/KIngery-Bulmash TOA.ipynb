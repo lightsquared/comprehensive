{
 "cells": [
  {
   "cell_type": "code",
   "execution_count": 1,
   "metadata": {},
   "outputs": [
    {
     "data": {
      "text/html": [
       "<div>\n",
       "<style scoped>\n",
       "    .dataframe tbody tr th:only-of-type {\n",
       "        vertical-align: middle;\n",
       "    }\n",
       "\n",
       "    .dataframe tbody tr th {\n",
       "        vertical-align: top;\n",
       "    }\n",
       "\n",
       "    .dataframe thead th {\n",
       "        text-align: right;\n",
       "    }\n",
       "</style>\n",
       "<table border=\"1\" class=\"dataframe\">\n",
       "  <thead>\n",
       "    <tr style=\"text-align: right;\">\n",
       "      <th></th>\n",
       "      <th>scaled_dist</th>\n",
       "      <th>scaled_ppd</th>\n",
       "      <th>detonation</th>\n",
       "    </tr>\n",
       "  </thead>\n",
       "  <tbody>\n",
       "    <tr>\n",
       "      <th>0</th>\n",
       "      <td>1.49</td>\n",
       "      <td>0.34</td>\n",
       "      <td>5-Ton TNT</td>\n",
       "    </tr>\n",
       "    <tr>\n",
       "      <th>1</th>\n",
       "      <td>1.72</td>\n",
       "      <td>0.44</td>\n",
       "      <td>5-Ton TNT</td>\n",
       "    </tr>\n",
       "    <tr>\n",
       "      <th>2</th>\n",
       "      <td>2.26</td>\n",
       "      <td>1.24</td>\n",
       "      <td>5-Ton TNT</td>\n",
       "    </tr>\n",
       "    <tr>\n",
       "      <th>3</th>\n",
       "      <td>2.26</td>\n",
       "      <td>1.24</td>\n",
       "      <td>5-Ton TNT</td>\n",
       "    </tr>\n",
       "    <tr>\n",
       "      <th>4</th>\n",
       "      <td>3.16</td>\n",
       "      <td>1.81</td>\n",
       "      <td>5-Ton TNT</td>\n",
       "    </tr>\n",
       "  </tbody>\n",
       "</table>\n",
       "</div>"
      ],
      "text/plain": [
       "   scaled_dist  scaled_ppd detonation\n",
       "0         1.49        0.34  5-Ton TNT\n",
       "1         1.72        0.44  5-Ton TNT\n",
       "2         2.26        1.24  5-Ton TNT\n",
       "3         2.26        1.24  5-Ton TNT\n",
       "4         3.16        1.81  5-Ton TNT"
      ]
     },
     "execution_count": 1,
     "metadata": {},
     "output_type": "execute_result"
    }
   ],
   "source": [
    "import numpy as np\n",
    "import matplotlib.pyplot as plt\n",
    "%matplotlib inline\n",
    "import pandas as pd\n",
    "from io import StringIO\n",
    "import os\n",
    "working_dir = os.path.join(os.path.expanduser(\"~\"), \"Documents/github/comprehensive/\")\n",
    "data_path = \"2_data/ppd.csv\"\n",
    "filePath = os.path.join(working_dir, data_path)\n",
    "\n",
    "shot_data = pd.read_csv(filePath)\n",
    "shot_data.head()"
   ]
  },
  {
   "cell_type": "code",
   "execution_count": 10,
   "metadata": {
    "scrolled": false
   },
   "outputs": [
    {
     "data": {
      "image/png": "[encoded data removed]",
      "text/plain": [
       "<Figure size 648x864 with 1 Axes>"
      ]
     },
     "metadata": {
      "needs_background": "light"
     },
     "output_type": "display_data"
    }
   ],
   "source": [
    "import matplotlib.pyplot as plt\n",
    "\n",
    "import numpy as np\n",
    "font = {'family' : 'serif',\n",
    "        'weight' : 'normal',\n",
    "        'size'   : 16}\n",
    "\n",
    "plt.rc('font', **font)\n",
    "\n",
    "Blast = 'surface'\n",
    "\n",
    "if Blast == 'freeair':\n",
    "    T = np.arange(0.134,100.0,0.001)\n",
    "    TL = np.log10(T)\n",
    "    U = (-0.80501734056 + 1.37407043777*TL)   \n",
    "    Y = 10**(- 0.0423733936826 + 1.36456871214000*U\n",
    "        - 0.0570035692784*U**2 - 0.18283222479600*U**3\n",
    "        + 0.0118851436014*U**4 + 0.04326486876270*U**5  \n",
    "        - 0.0007997367834*U**6 - 0.00436073555033*U**7)\n",
    "\n",
    "else: #surface\n",
    "    T1 = np.arange(0.450,2.54,0.001)\n",
    "    TL1 = np.log10(T1)\n",
    "    U1 = (-0.1790217052 + 9.2996288611*TL1)   \n",
    "    Y = 10**(0.20096507334        - 0.0297944268976*U1\n",
    "         + 0.03063295428800*U1**2 + 0.0183405574086*U1**3\n",
    "         - 0.01739646662110*U1**4 - 0.00106321963633*U1**5\n",
    "         + 0.00562060030977*U1**6 + 0.00016182174990*U1**7\n",
    "         - 0.00068601889440*U1**8)\n",
    "    \n",
    "    T2 = np.arange(2.54,7.00,0.001)\n",
    "    TL2 = np.log10(T2)\n",
    "    U2 = (-5.85909812338 + 5.25099193925*TL2)   \n",
    "    Y = 10**(- 0.614227603559    + 0.130143717675*U2\n",
    "         + 0.13457251195400*U2**2 + 0.03915742769060*U2**3\n",
    "         - 0.00475933664702*U2**4 + 0.00428144598008*U2**5)\n",
    "\n",
    "    T3 = np.arange(7.00,100.00,0.001)\n",
    "    TL3 = np.log10(T3)\n",
    "    U3 = (-0.1790217052 + 5.25099193925*TL3)   \n",
    "    Y = 10**(- 0.614227603559    + 0.130143717675*U3\n",
    "         + 0.13457251195400*U3**2 + 0.03915742769060*U3**3\n",
    "         - 0.00475933664702*U3**4 + 0.00428144598008*U3**5)\n",
    "\n",
    "pltfont = {'fontname':'serif', 'fontsize':'16'}\n",
    "fig, ax = plt.subplots(figsize=(9, 12))\n",
    "\n",
    "for c, shot_data in shot_data.groupby('detonation'):\n",
    "    ax.scatter(shot_data.scaled_dist, shot_data.scaled_ppd, label=c)\n",
    "\n",
    "ax.legend()\n",
    "ax.tick_params('both', length=10, width=1, which='minor')\n",
    "plt.grid(b=True, which='both', color='black', linestyle='-')\n",
    "plt.ylim(0.01,10)\n",
    "plt.xlim(0.1,100)\n",
    "plt.loglog(T,Y,color='black');\n",
    "plt.ylabel(r'Positive Phase Duration, $\\left(msec\\right)$')\n",
    "plt.xlabel(r'Distance, $\\left(ft\\right)$')\n",
    "plt.show()"
   ]
  },
  {
   "cell_type": "code",
   "execution_count": 4,
   "metadata": {},
   "outputs": [
    {
     "data": {
      "text/plain": [
       "'500-Ton TNT'"
      ]
     },
     "execution_count": 4,
     "metadata": {},
     "output_type": "execute_result"
    }
   ],
   "source": []
  }
 ],
 "metadata": {
  "kernelspec": {
   "display_name": "Python 3",
   "language": "python",
   "name": "python3"
  },
  "language_info": {
   "codemirror_mode": {
    "name": "ipython",
    "version": 3
   },
   "file_extension": ".py",
   "mimetype": "text/x-python",
   "name": "python",
   "nbconvert_exporter": "python",
   "pygments_lexer": "ipython3",
   "version": "3.7.3"
  }
 },
 "nbformat": 4,
 "nbformat_minor": 2
}
