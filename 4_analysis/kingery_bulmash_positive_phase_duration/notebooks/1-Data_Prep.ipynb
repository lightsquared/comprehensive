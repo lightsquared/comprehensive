{
  "cells": [
    {
      "cell_type": "markdown",
      "source": [
        "## Comprehensive Exam - Positive Phase Duration Plot Using Kingery Bulmash Data\n",
        "\n",
        "The notebook cleans the digitized data from the 1984 Kingery Bulmash study.\n",
        "\n",
        "### Data Sources\n",
        "- file1 : The data came from digitizing the original plots from the Kingery Bulmash paper.  There were 4 sets of data digitized:\n",
        "    - The Kingery Bulmash curve fit.\n",
        "    - The plot of data from references 6 & 7\n",
        "    - The plot of data from reference 8\n",
        "    - The plot of data from reference 9\n",
        "\n",
        "### Changes\n",
        "- 12-18-2018 : Started project"
      ],
      "metadata": {}
    },
    {
      "cell_type": "code",
      "source": [
        "import pandas as pd\n",
        "from pathlib import Path\n",
        "from datetime import datetime"
      ],
      "outputs": [],
      "execution_count": 27,
      "metadata": {}
    },
    {
      "cell_type": "markdown",
      "source": [
        "### File Locations"
      ],
      "metadata": {}
    },
    {
      "cell_type": "code",
      "source": [
        "today = datetime.today()\n",
        "in_file_cv_data = Path.cwd().parents[2] / \"2_data\" / \"kingery_bulmash_positive_phase_duration\" / \"raw\" / \"KB_data_positive_phase_duration_curve_data_plot_digitized.csv\"\n",
        "in_file_67_data = Path.cwd().parents[2] / \"2_data\" / \"kingery_bulmash_positive_phase_duration\" / \"raw\" / \"KB_data_positive_phase_duration_ref_6_and7_data_plot_digitized.csv\"\n",
        "in_file_08_data = Path.cwd().parents[2] / \"2_data\" / \"kingery_bulmash_positive_phase_duration\" / \"raw\" / \"KB_data_positive_phase_duration_ref_8_data_plot_digitized.csv\"\n",
        "in_file_09_data = Path.cwd().parents[2] / \"2_data\" / \"kingery_bulmash_positive_phase_duration\" / \"raw\" / \"KB_data_positive_phase_duration_ref_9_data_plot_digitized.csv\"\n",
        "\n",
        "summary_file_cv = Path.cwd().parents[2] / \"2_data\" / \"kingery_bulmash_positive_phase_duration\" / \"processed\" / f\"summary_cv_{today:%b-%d-%Y}.pkl\"\n",
        "summary_file_67 = Path.cwd().parents[2] / \"2_data\" / \"kingery_bulmash_positive_phase_duration\" / \"processed\" / f\"summary_67_{today:%b-%d-%Y}.pkl\"\n",
        "summary_file_08 = Path.cwd().parents[2] / \"2_data\" / \"kingery_bulmash_positive_phase_duration\" / \"processed\" / f\"summary_08_{today:%b-%d-%Y}.pkl\"\n",
        "summary_file_09 = Path.cwd().parents[2] / \"2_data\" / \"kingery_bulmash_positive_phase_duration\" / \"processed\" / f\"summary_09_{today:%b-%d-%Y}.pkl\""
      ],
      "outputs": [],
      "execution_count": 42,
      "metadata": {}
    },
    {
      "cell_type": "code",
      "source": [
        "df_cv = pd.read_csv(in_file_cv_data)\n",
        "df_67 = pd.read_csv(in_file_67_data)\n",
        "df_08 = pd.read_csv(in_file_08_data)\n",
        "df_09 = pd.read_csv(in_file_09_data)"
      ],
      "outputs": [],
      "execution_count": 29,
      "metadata": {}
    },
    {
      "cell_type": "markdown",
      "source": [
        "### Column Cleanup\n",
        "\n",
        "- Remove all leading and trailing spaces\n",
        "- Rename the columns for consistency."
      ],
      "metadata": {}
    },
    {
      "cell_type": "code",
      "source": [
        "# https://stackoverflow.com/questions/30763351/removing-space-in-dataframe-python\n",
        "df_cv.columns = [x.strip() for x in df_cv.columns]\n",
        "df_67.columns = [x.strip() for x in df_67.columns]\n",
        "df_08.columns = [x.strip() for x in df_08.columns]\n",
        "df_09.columns = [x.strip() for x in df_09.columns]"
      ],
      "outputs": [],
      "execution_count": 36,
      "metadata": {}
    },
    {
      "cell_type": "code",
      "source": [
        "cols_to_rename1 = {'x': 'scaled_distance'}\n",
        "cols_to_rename2 = {'y': 'time_of_arrival'}\n",
        "df_cv.rename(columns=cols_to_rename1, inplace=True)\n",
        "df_cv.rename(columns=cols_to_rename2, inplace=True)\n",
        "\n",
        "df_67.rename(columns=cols_to_rename1, inplace=True)\n",
        "df_67.rename(columns=cols_to_rename2, inplace=True)\n",
        "\n",
        "df_08.rename(columns=cols_to_rename1, inplace=True)\n",
        "df_08.rename(columns=cols_to_rename2, inplace=True)\n",
        "\n",
        "df_09.rename(columns=cols_to_rename1, inplace=True)\n",
        "df_09.rename(columns=cols_to_rename2, inplace=True)"
      ],
      "outputs": [],
      "execution_count": 39,
      "metadata": {}
    },
    {
      "cell_type": "markdown",
      "source": [
        "### Clean Up Data Types"
      ],
      "metadata": {}
    },
    {
      "cell_type": "code",
      "source": [
        "df_cv.dtypes"
      ],
      "outputs": [
        {
          "output_type": "execute_result",
          "execution_count": 40,
          "data": {
            "text/plain": [
              "scaled_distance    float64\n",
              "time_of_arrival    float64\n",
              "dtype: object"
            ]
          },
          "metadata": {}
        }
      ],
      "execution_count": 40,
      "metadata": {}
    },
    {
      "cell_type": "markdown",
      "source": [
        "### Data Manipulation"
      ],
      "metadata": {}
    },
    {
      "cell_type": "code",
      "source": [],
      "outputs": [],
      "execution_count": 33,
      "metadata": {}
    },
    {
      "cell_type": "markdown",
      "source": [
        "### Save output file into processed directory\n",
        "\n",
        "Save a file in the processed directory that is cleaned properly. It will be read in and used later for further analysis.\n",
        "\n",
        "Other options besides pickle include:\n",
        "- feather\n",
        "- msgpack\n",
        "- parquet"
      ],
      "metadata": {}
    },
    {
      "cell_type": "code",
      "source": [
        "df_cv.to_pickle(summary_file_cv)\n",
        "df_67.to_pickle(summary_file_67)\n",
        "df_08.to_pickle(summary_file_08)\n",
        "df_09.to_pickle(summary_file_09)"
      ],
      "outputs": [],
      "execution_count": 44,
      "metadata": {}
    }
  ],
  "metadata": {
    "kernelspec": {
      "name": "python3",
      "language": "python",
      "display_name": "Python 3"
    },
    "language_info": {
      "name": "python",
      "version": "3.6.5",
      "mimetype": "text/x-python",
      "codemirror_mode": {
        "name": "ipython",
        "version": 3
      },
      "pygments_lexer": "ipython3",
      "nbconvert_exporter": "python",
      "file_extension": ".py"
    },
    "kernel_info": {
      "name": "python3"
    },
    "nteract": {
      "version": "0.12.3"
    }
  },
  "nbformat": 4,
  "nbformat_minor": 1
}