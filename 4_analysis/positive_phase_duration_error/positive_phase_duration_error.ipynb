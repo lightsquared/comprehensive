{
  "cells": [
    {
      "cell_type": "code",
      "source": [
        "import numpy as np\n",
        "import pandas as pd\n",
        "#from io import StringIO\n",
        "import os\n",
        "from scipy.optimize import curve_fit\n",
        "from scipy.optimize import differential_evolution\n",
        "import warnings\n",
        "\n",
        "# Visualizations\n",
        "import matplotlib.pyplot as plt\n",
        "%matplotlib inline\n",
        "h = 8\n",
        "w = h*1.61803398875\n",
        "font = {'family' : 'Times New Roman',\n",
        "        'weight' : 'bold',\n",
        "        'size'   : 26}\n",
        "\n",
        "plt.rc('font', **font)\n",
        "\n",
        "#from matplotlib import rc\n",
        "plt.rc('font',**{'family':'serif','serif':['Times New Roman']})\n",
        "plt.rc('text', usetex=True)\n",
        "\n",
        "h = 8\n",
        "w = 8*1.61803398875"
      ],
      "outputs": [],
      "execution_count": 1,
      "metadata": {
        "execution": {
          "iopub.status.busy": "2020-03-31T15:25:13.722Z",
          "iopub.execute_input": "2020-03-31T15:25:13.726Z",
          "iopub.status.idle": "2020-03-31T15:25:15.089Z",
          "shell.execute_reply": "2020-03-31T15:25:15.085Z"
        }
      }
    },
    {
      "cell_type": "code",
      "source": [
        "# Data the KB Curve is Based Upon\n",
        "working_dir = os.path.join(os.path.expanduser(\"~\"), \"Documents/github/comprehensive/\")\n",
        "data_path = \"2_data/positive_phase_duration_error/kingery_1966_re.csv\"\n",
        "filePath = os.path.join(working_dir, data_path)\n",
        "re_data = pd.read_csv(filePath)\n",
        "re_data.head()"
      ],
      "outputs": [
        {
          "output_type": "execute_result",
          "execution_count": 2,
          "data": {
            "text/plain": [
              "   scaled_distance       y      y0    y-y0   y-y0/y0\n",
              "0            0.487  0.1900  0.1911 -0.0011 -0.005756\n",
              "1            0.789  0.1760  0.1700  0.0060  0.035294\n",
              "2            1.142  0.1998  0.1976  0.0022  0.011134\n",
              "3            1.142  0.1851  0.1976 -0.0125 -0.063259\n",
              "4            1.285  0.2262  0.2267 -0.0005 -0.002206"
            ],
            "text/html": [
              "<div>\n",
              "<style scoped>\n",
              "    .dataframe tbody tr th:only-of-type {\n",
              "        vertical-align: middle;\n",
              "    }\n",
              "\n",
              "    .dataframe tbody tr th {\n",
              "        vertical-align: top;\n",
              "    }\n",
              "\n",
              "    .dataframe thead th {\n",
              "        text-align: right;\n",
              "    }\n",
              "</style>\n",
              "<table border=\"1\" class=\"dataframe\">\n",
              "  <thead>\n",
              "    <tr style=\"text-align: right;\">\n",
              "      <th></th>\n",
              "      <th>scaled_distance</th>\n",
              "      <th>y</th>\n",
              "      <th>y0</th>\n",
              "      <th>y-y0</th>\n",
              "      <th>y-y0/y0</th>\n",
              "    </tr>\n",
              "  </thead>\n",
              "  <tbody>\n",
              "    <tr>\n",
              "      <th>0</th>\n",
              "      <td>0.487</td>\n",
              "      <td>0.1900</td>\n",
              "      <td>0.1911</td>\n",
              "      <td>-0.0011</td>\n",
              "      <td>-0.005756</td>\n",
              "    </tr>\n",
              "    <tr>\n",
              "      <th>1</th>\n",
              "      <td>0.789</td>\n",
              "      <td>0.1760</td>\n",
              "      <td>0.1700</td>\n",
              "      <td>0.0060</td>\n",
              "      <td>0.035294</td>\n",
              "    </tr>\n",
              "    <tr>\n",
              "      <th>2</th>\n",
              "      <td>1.142</td>\n",
              "      <td>0.1998</td>\n",
              "      <td>0.1976</td>\n",
              "      <td>0.0022</td>\n",
              "      <td>0.011134</td>\n",
              "    </tr>\n",
              "    <tr>\n",
              "      <th>3</th>\n",
              "      <td>1.142</td>\n",
              "      <td>0.1851</td>\n",
              "      <td>0.1976</td>\n",
              "      <td>-0.0125</td>\n",
              "      <td>-0.063259</td>\n",
              "    </tr>\n",
              "    <tr>\n",
              "      <th>4</th>\n",
              "      <td>1.285</td>\n",
              "      <td>0.2262</td>\n",
              "      <td>0.2267</td>\n",
              "      <td>-0.0005</td>\n",
              "      <td>-0.002206</td>\n",
              "    </tr>\n",
              "  </tbody>\n",
              "</table>\n",
              "</div>"
            ]
          },
          "metadata": {}
        }
      ],
      "execution_count": 2,
      "metadata": {
        "execution": {
          "iopub.status.busy": "2020-03-31T15:25:15.093Z",
          "iopub.execute_input": "2020-03-31T15:25:15.097Z",
          "iopub.status.idle": "2020-03-31T15:25:15.107Z",
          "shell.execute_reply": "2020-03-31T15:25:15.143Z"
        }
      }
    },
    {
      "cell_type": "code",
      "source": [
        "df = (re_data.assign(Data_Value=re_data['y-y0/y0'].abs())\n",
        "       .groupby(['scaled_distance'])['y-y0/y0'].agg([('Min' , 'min'), ('Max', 'max')])\n",
        "       .add_prefix('RE'))\n",
        "df.head()"
      ],
      "outputs": [
        {
          "output_type": "execute_result",
          "execution_count": 3,
          "data": {
            "text/plain": [
              "                    REMin     REMax\n",
              "scaled_distance                    \n",
              "0.487           -0.005756 -0.005756\n",
              "0.789            0.035294  0.035294\n",
              "1.142           -0.063259  0.011134\n",
              "1.285           -0.300397 -0.002206\n",
              "1.492            0.186405  0.186405"
            ],
            "text/html": [
              "<div>\n",
              "<style scoped>\n",
              "    .dataframe tbody tr th:only-of-type {\n",
              "        vertical-align: middle;\n",
              "    }\n",
              "\n",
              "    .dataframe tbody tr th {\n",
              "        vertical-align: top;\n",
              "    }\n",
              "\n",
              "    .dataframe thead th {\n",
              "        text-align: right;\n",
              "    }\n",
              "</style>\n",
              "<table border=\"1\" class=\"dataframe\">\n",
              "  <thead>\n",
              "    <tr style=\"text-align: right;\">\n",
              "      <th></th>\n",
              "      <th>REMin</th>\n",
              "      <th>REMax</th>\n",
              "    </tr>\n",
              "    <tr>\n",
              "      <th>scaled_distance</th>\n",
              "      <th></th>\n",
              "      <th></th>\n",
              "    </tr>\n",
              "  </thead>\n",
              "  <tbody>\n",
              "    <tr>\n",
              "      <th>0.487</th>\n",
              "      <td>-0.005756</td>\n",
              "      <td>-0.005756</td>\n",
              "    </tr>\n",
              "    <tr>\n",
              "      <th>0.789</th>\n",
              "      <td>0.035294</td>\n",
              "      <td>0.035294</td>\n",
              "    </tr>\n",
              "    <tr>\n",
              "      <th>1.142</th>\n",
              "      <td>-0.063259</td>\n",
              "      <td>0.011134</td>\n",
              "    </tr>\n",
              "    <tr>\n",
              "      <th>1.285</th>\n",
              "      <td>-0.300397</td>\n",
              "      <td>-0.002206</td>\n",
              "    </tr>\n",
              "    <tr>\n",
              "      <th>1.492</th>\n",
              "      <td>0.186405</td>\n",
              "      <td>0.186405</td>\n",
              "    </tr>\n",
              "  </tbody>\n",
              "</table>\n",
              "</div>"
            ]
          },
          "metadata": {}
        }
      ],
      "execution_count": 3,
      "metadata": {
        "execution": {
          "iopub.status.busy": "2020-03-31T15:25:15.113Z",
          "iopub.execute_input": "2020-03-31T15:25:15.116Z",
          "iopub.status.idle": "2020-03-31T15:25:15.122Z",
          "shell.execute_reply": "2020-03-31T15:25:15.145Z"
        }
      }
    },
    {
      "cell_type": "code",
      "source": [
        "re_data.values\n",
        "x = re_data.scaled_distance\n",
        "#y = abs(re_data['y-y0/y0']*100)\n",
        "y = re_data['y-y0/y0']*100\n",
        "\n",
        "x1 = df.index\n",
        "y_max = df.REMax*100\n",
        "y_min = df.REMin*100\n",
        "\n",
        "pltfont = {'fontname':'serif', 'fontsize':'16'}\n",
        "fig, ax = plt.subplots(figsize=(w, h))\n",
        "\n",
        "plt.grid(b=True, which='major', color='black', linestyle='-', linewidth=.1)\n",
        "plt.grid(b=True, which='minor', color='black', linestyle='-', linewidth=.1)\n",
        "#plt.ylim(0.01,10)\n",
        "plt.xlim(0.10,100)\n",
        "c=0.025\n",
        "ax.scatter(x,y,marker='*',color='royalblue',zorder=2)\n",
        "ax.bar(x, y, width=c*np.array(x), color='limegreen',zorder=1)\n",
        "ax.set_xscale(\"log\")\n",
        "\n",
        "plt.ylabel(r'Positive Phase Duration Relative Error, $\\left(\\%\\right)$')\n",
        "plt.xlabel(r'Scaled Distance, $\\left(\\frac{ft}{lb^{1/3}}\\right)$')\n",
        "plt.tight_layout()\n",
        "#ax.annotate('local max', xy=(3.2, 1.7), xytext=(4.1, 4.1),\n",
        "#            arrowprops=dict(facecolor='black', shrink=0.05),\n",
        "#            )\n",
        "\n",
        "data_path = \"5_reports/figures\"\n",
        "file_name = \"fig_ppd_re.png\"\n",
        "filePath = os.path.join(working_dir, data_path, file_name)\n",
        "plt.savefig(filePath)\n",
        "\n",
        "plt.show()"
      ],
      "outputs": [
        {
          "output_type": "display_data",
          "data": {
            "text/plain": [
              "<Figure size 931.988x576 with 1 Axes>"
            ],
            "image/png": "[encoded data removed]"
          },
          "metadata": {
            "needs_background": "light"
          }
        }
      ],
      "execution_count": 4,
      "metadata": {
        "execution": {
          "iopub.status.busy": "2020-03-31T15:25:15.128Z",
          "iopub.execute_input": "2020-03-31T15:25:15.132Z",
          "iopub.status.idle": "2020-03-31T15:25:17.405Z",
          "shell.execute_reply": "2020-03-31T15:25:17.439Z"
        }
      }
    },
    {
      "cell_type": "code",
      "source": [
        "rel_err = abs(re_data['y-y0/y0'][(re_data.scaled_distance > 1.0)&(re_data.scaled_distance < 8.0)]).mean()*100\n",
        "print(u'The relative error of the arrival time between 1.0 < Z < 3.0 is \\u00B1%2.2f%%.' % rel_err)"
      ],
      "outputs": [
        {
          "output_type": "stream",
          "name": "stdout",
          "text": [
            "The relative error of the arrival time between 1.0 < Z < 3.0 is ±13.56%.\n"
          ]
        }
      ],
      "execution_count": 6,
      "metadata": {
        "collapsed": true,
        "outputExpanded": false,
        "jupyter": {
          "source_hidden": false,
          "outputs_hidden": false
        },
        "nteract": {
          "transient": {
            "deleting": false
          }
        },
        "execution": {
          "iopub.status.busy": "2020-03-31T15:25:34.374Z",
          "iopub.execute_input": "2020-03-31T15:25:34.380Z",
          "iopub.status.idle": "2020-03-31T15:25:34.386Z",
          "shell.execute_reply": "2020-03-31T15:25:34.389Z"
        }
      }
    }
  ],
  "metadata": {
    "kernel_info": {
      "name": "dissertation"
    },
    "kernelspec": {
      "display_name": "dissertation",
      "language": "python",
      "name": "dissertation"
    },
    "language_info": {
      "name": "python",
      "version": "3.8.2",
      "mimetype": "text/x-python",
      "codemirror_mode": {
        "name": "ipython",
        "version": 3
      },
      "pygments_lexer": "ipython3",
      "nbconvert_exporter": "python",
      "file_extension": ".py"
    },
    "nteract": {
      "version": "0.22.4"
    }
  },
  "nbformat": 4,
  "nbformat_minor": 4
}