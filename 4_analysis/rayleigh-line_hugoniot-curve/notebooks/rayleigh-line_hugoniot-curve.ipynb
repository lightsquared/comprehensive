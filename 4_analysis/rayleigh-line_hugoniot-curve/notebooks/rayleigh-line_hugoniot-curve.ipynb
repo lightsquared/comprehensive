{
  "cells": [
    {
      "cell_type": "markdown",
      "source": [
        "# The Rayleigh Line and the Hugoniot Curve\n",
        "The basic conservation equations of mass, momentum, and energy for one-dimensional steady flow across a detonation wave wrt a co-ordinate system fixed to the wave are given below:\n",
        "\n",
        "conservation of mass:  $\\rho_0u_0 = \\rho_1u_1$\n",
        "\n",
        "conservation of momentum:  $p_0+\\rho_0u_0^2=p_1+\\rho_1u_1^2$\n",
        "\n",
        "conservation of energy: $h_0+\\frac{u_0^2}{2}=h_1+\\frac{u_1^2}{2}$\n",
        "\n",
        "The thermodynamic path along which the initial state proceeds to the final state across a detonation wave is readily obtained from the conservation of mass and momentum equations:\n",
        "\n",
        "$$\\frac{p_1-p_0}{\\nu_1-\\nu_0}=\\rho_0^2u_0^2=\\rho_1^2u_1^2=\\dot m^2$$\n",
        "\n",
        "where $\\nu = \\frac{1}{\\rho}$ is the specific volume and $\\dot m = \\rho u$ is the mass flow rate per unit area.\n",
        "\n",
        "If we solve for $\\dot m$ we have,\n",
        "\n",
        "$$\\dot m = \\sqrt{\\left(\\frac{p_1-p_0}{\\nu_0-\\nu_1}\\right)}$$\n",
        "\nIf we define $x = \\frac{\\nu_1}{\\nu_0}$ and $y=\\frac{p_1}{p_0}$ and substitute back into the equation above we have,"
      ],
      "metadata": {
        "collapsed": false,
        "outputHidden": false,
        "inputHidden": false
      }
    },
    {
      "cell_type": "markdown",
      "source": [
        "$$\\dot m = \\sqrt{\\left(\\frac{y-1}{1-x}\\right)\\frac{\\rho_0}{\\nu_0}}$$\n",
        "\n",
        "The speed of sound in the undesturbed flow (upstream) is given by,\n",
        "\n",
        "$$c_0 = \\sqrt{\\gamma_0 p_0 \\nu_0}$$\n",
        "\n",
        "and the Mach number of the detonation wave is given by:\n",
        "\n",
        "$$M_0=\\frac{u_0}{c_0}$$\n",
        "\n",
        "substituting $c_0$ into the Mach equation we have,\n",
        "\n",
        "$$M_0^2=\\frac{u_0^2}{\\gamma_0 p_0 \\nu_0}$$\n",
        "\n",
        "$$M_0^2 \\gamma_0 =\\frac{u_0^2}{p_0 \\nu_0}$$\n",
        "\n",
        "Recalling that $\\dot m^2 = \\rho_0^2 u_0^2$,\n",
        "\n",
        "We can rewrite the mass flow equation and substitute the mach number and speed of sound equations,\n",
        "\n",
        "$$\\dot m^2\\frac{\\nu_0}{p_0} = \\left(\\frac{y-1}{1-x}\\right)$$\n",
        "\n",
        "$$\\frac{\\rho_0^2u_0^2\\nu_0}{p_0} = \\left(\\frac{y-1}{1-x}\\right)$$\n",
        "\n$$\\frac{\\rho_0^2u_0^2\\nu_0}{p_0} = \\left(\\frac{y-1}{1-x}\\right)$$"
      ],
      "metadata": {}
    }
  ],
  "metadata": {
    "kernel_info": {
      "name": "python3"
    },
    "language_info": {
      "name": "python",
      "version": "3.6.5",
      "mimetype": "text/x-python",
      "codemirror_mode": {
        "name": "ipython",
        "version": 3
      },
      "pygments_lexer": "ipython3",
      "nbconvert_exporter": "python",
      "file_extension": ".py"
    },
    "kernelspec": {
      "name": "python3",
      "language": "python",
      "display_name": "Python 3"
    },
    "nteract": {
      "version": "0.12.3"
    }
  },
  "nbformat": 4,
  "nbformat_minor": 4
}