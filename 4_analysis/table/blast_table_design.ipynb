{
 "cells": [
  {
   "cell_type": "markdown",
   "metadata": {},
   "source": [
    "# Analysis to Determine Pressure Transducer Locations and Charge Size.\n",
    "S. Kevin McNeill\n",
    "\n",
    "shonn.mcneill@atf.gov\n",
    "\n",
    "Version 1.0: Initial build of the notebook.\n",
    "\n",
    "Date: 6/25/2019"
   ]
  },
  {
   "cell_type": "markdown",
   "metadata": {},
   "source": [
    "## Introduction\n",
    "When examining the Kingery-Bulmash models and data for incident impulse and positive phase duration an interesting inflection point is observed between a scaled distance of $1.00\\frac{ft}{\\sqrt[3]{lb}}$ and $5.00\\frac{ft}{\\sqrt[3]{lb}}$, see Figure 1.\n",
    "\n",
    "![image](../5_reports/figures/2018-12-19_kb_ppd.png \"Figure 1 - Kingery-Bulmash model with data.  Note that the nuclear data does not show the inflection point.  This is consistent with the theory as a nuclear blast would not generate excess fuel for afterburn.\")\n",
    "**Figure 1 - Kingery-Bulmash model with data.  Note that the nuclear data does not show the inflection point.  This is consistent with the theory as a nuclear blast would not generate excess fuel for afterburn.**\n",
    "\n",
    "It is hypothesized that the oxygen-balance of the explosive is inversely proportional to the positive phase duration and incident impulse in that scaled distances range.  To test this theory this study will measure the peak pressure, impulse, positive phase duration and time of arrival for hemispherical surface bursts of three explosives with increasing oxygen balance (TNT, PETN, and Dyno AP).  To provide for a consistent surface for the measurement of the blast parameters, the charge will be initiated on a steel table with the transducers embedded in the plate.  This analysis will be used to support the table design parameters.\n",
    "\n",
    "The table will be $8\\:ft$ x $4\\:ft$ x $1\\:in$.  The $1\\:lb$ hemispherical charge will be centered in the sheet on top of a $1\\:ft$ x $1\\:ft$ x $1\\:in$ sacrificial steel plate.  Pressure transducers and a visible light spectrometer (fiber optic cable) will be positioned along the long axis of the table.  The ten pressure transducers will be spaced between a scaled distance of $1.00\\:\\frac{ft}{\\sqrt[3]{lb}}$ and $5.00\\:\\frac{ft}{\\sqrt[3]{lb}}$.  The spectrometer fiber optic cable will be positioned at approximately $1.00\\:\\frac{ft}{\\sqrt[3]{lb}}$.\n",
    "\n",
    "The positioning of the pressure transducers is based upon the inflection point that appears in the Kingery-Bulmash time-of-arrival model between $1.00\\frac{ft}{\\sqrt[3]{lb}}$ and $5.00\\frac{ft}{\\sqrt[3]{lb}}$.  The peak of the inflection point appears a approximately $3.00\\frac{ft}{\\sqrt[3]{lb}}$.  It is hypothesized that this peak represents the maximum afterburn and should therefore present a good location to attempt to measure the temperature. "
   ]
  },
  {
   "cell_type": "markdown",
   "metadata": {},
   "source": [
    "### Notebook Imports"
   ]
  },
  {
   "cell_type": "code",
   "execution_count": 2,
   "metadata": {},
   "outputs": [
    {
     "data": {
      "text/html": [
       "        <script type=\"text/javascript\">\n",
       "        window.PlotlyConfig = {MathJaxConfig: 'local'};\n",
       "        if (window.MathJax) {MathJax.Hub.Config({SVG: {font: \"STIX-Web\"}});}\n",
       "        if (typeof require !== 'undefined') {\n",
       "        require.undef(\"plotly\");\n",
       "        requirejs.config({\n",
       "            paths: {\n",
       "                'plotly': ['https://cdn.plot.ly/plotly-latest.min']\n",
       "            }\n",
       "        });\n",
       "        require(['plotly'], function(Plotly) {\n",
       "            window._Plotly = Plotly;\n",
       "        });\n",
       "        }\n",
       "        </script>\n",
       "        "
      ]
     },
     "metadata": {},
     "output_type": "display_data"
    },
    {
     "data": {
      "text/html": [
       "        <script type=\"text/javascript\">\n",
       "        window.PlotlyConfig = {MathJaxConfig: 'local'};\n",
       "        if (window.MathJax) {MathJax.Hub.Config({SVG: {font: \"STIX-Web\"}});}\n",
       "        if (typeof require !== 'undefined') {\n",
       "        require.undef(\"plotly\");\n",
       "        requirejs.config({\n",
       "            paths: {\n",
       "                'plotly': ['https://cdn.plot.ly/plotly-latest.min']\n",
       "            }\n",
       "        });\n",
       "        require(['plotly'], function(Plotly) {\n",
       "            window._Plotly = Plotly;\n",
       "        });\n",
       "        }\n",
       "        </script>\n",
       "        "
      ]
     },
     "metadata": {},
     "output_type": "display_data"
    }
   ],
   "source": [
    "\n",
    "# Data manipulation\n",
    "import pandas as pd\n",
    "import numpy as np\n",
    "\n",
    "# Options for pandas\n",
    "pd.options.display.max_columns = 50\n",
    "pd.options.display.max_rows = 30\n",
    "\n",
    "# Display all cell outputs\n",
    "from IPython.core.interactiveshell import InteractiveShell\n",
    "InteractiveShell.ast_node_interactivity = 'all'\n",
    "\n",
    "from IPython import get_ipython\n",
    "ipython = get_ipython()\n",
    "\n",
    "# autoreload extension\n",
    "if 'autoreload' not in ipython.extension_manager.loaded:\n",
    "    %load_ext autoreload\n",
    "\n",
    "%autoreload 2\n",
    "\n",
    "# Visualizations\n",
    "import plotly.plotly as py\n",
    "import plotly.graph_objs as go\n",
    "from plotly.offline import iplot, init_notebook_mode\n",
    "init_notebook_mode(connected=True)\n",
    "\n",
    "from pint import UnitRegistry\n",
    "ur = UnitRegistry()\n",
    "\n",
    "import cufflinks as cf\n",
    "cf.go_offline(connected=True)\n",
    "cf.set_config_file(theme='white')"
   ]
  },
  {
   "cell_type": "markdown",
   "metadata": {},
   "source": [
    "## Calculations for 0.5lb Charge\n",
    "\n",
    "Given the costs associated with 3D printing, explosives, and table manufacturing a smaller charge weight should be considered.  In order to determine the impacts a smaller charge weight would have, I would like to calculate the following for a $0.5lb$ charge weight:\n",
    "- distance from the charge center of each of the eight (8) transducers.\n",
    "- distance from the charge center of the fiber optic probe.\n",
    "- charge volume required for a $0.5lb$ charge of cast TNT ($1.5g/cc$), powdered PETN ($0.88g/cc$), and Dyno AP ($1.15g/cc$)."
   ]
  },
  {
   "cell_type": "code",
   "execution_count": null,
   "metadata": {},
   "outputs": [],
   "source": [
    "d_h_lb = [[1.0, 0.5, 1.50], [1.5, 0.5, 1.50], [2.0, 0.5, 1.50],\n",
    "          [2.5, 0.5, 1.50], [3.0, 0.5, 1.50], [3.5, 0.5, 1.50],\n",
    "          [4.0, 0.5, 1.50], [4.5, 0.5, 1.50], [5.0, 0.5, 1.50],\n",
    "          [1.0, 0.5, 0.88], [1.5, 0.5, 0.88], [2.0, 0.5, 0.88],\n",
    "          [2.5, 0.5, 0.88], [3.0, 0.5, 0.88], [3.5, 0.5, 0.88],\n",
    "          [4.0, 0.5, 0.88], [4.5, 0.5, 0.88], [5.0, 0.5, 0.88],\n",
    "          [1.0, 0.5, 1.15], [1.5, 0.5, 1.15], [2.0, 0.5, 1.15],\n",
    "          [2.5, 0.5, 1.15], [3.0, 0.5, 1.15], [3.5, 0.5, 1.15],\n",
    "          [4.0, 0.5, 1.15], [4.5, 0.5, 1.15], [5.0, 0.5, 1.15]]\n"
   ]
  }
 ],
 "metadata": {
  "kernelspec": {
   "display_name": "Python 3",
   "language": "python",
   "name": "python3"
  },
  "language_info": {
   "codemirror_mode": {
    "name": "ipython",
    "version": 3
   },
   "file_extension": ".py",
   "mimetype": "text/x-python",
   "name": "python",
   "nbconvert_exporter": "python",
   "pygments_lexer": "ipython3",
   "version": "3.7.3"
  }
 },
 "nbformat": 4,
 "nbformat_minor": 2
}
