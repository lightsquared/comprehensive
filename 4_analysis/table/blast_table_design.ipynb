{
  "nbformat": 4,
  "nbformat_minor": 0,
  "metadata": {
    "kernelspec": {
      "display_name": "Python 3",
      "language": "python",
      "name": "python3"
    },
    "language_info": {
      "codemirror_mode": {
        "name": "ipython",
        "version": 3
      },
      "file_extension": ".py",
      "mimetype": "text/x-python",
      "name": "python",
      "nbconvert_exporter": "python",
      "pygments_lexer": "ipython3",
      "version": "3.7.3"
    },
    "colab": {
      "name": "blast_table_design.ipynb",
      "provenance": []
    }
  },
  "cells": [
    {
      "cell_type": "markdown",
      "metadata": {
        "id": "Aqeu19zyqifs",
        "colab_type": "text"
      },
      "source": [
        "# Analysis to Determine Pressure Transducer Locations and Charge Size.\n",
        "S. Kevin McNeill\n",
        "\n",
        "shonn.mcneill@atf.gov\n",
        "\n",
        "Version 1.0: Initial build of the notebook.\n",
        "\n",
        "Date: 6/25/2019"
      ]
    },
    {
      "cell_type": "markdown",
      "metadata": {
        "id": "YOS9QLyQqift",
        "colab_type": "text"
      },
      "source": [
        "## Introduction\n",
        "When examining the Kingery-Bulmash models and data for incident impulse and positive phase duration an interesting inflection point is observed between a scaled distance of $1.00\\frac{ft}{\\sqrt[3]{lb}}$ and $5.00\\frac{ft}{\\sqrt[3]{lb}}$, see Figure 1.\n",
        "\n",
        "<figure>\n",
        "  <img src=\"https://drive.google.com/uc?id=13pJnNq60IVKsOpygo2d186LfqpJOvXdb\" alt=\"Positive Phase Duration\" style=\"width:100%\">\n",
        "  <figcaption align=\"center\"> Figure 1 - Kingery-Bulmash model with data.  Note that the nuclear data does not show the inflection point.  This is consistent with the theory as a nuclear blast would not generate excess fuel for afterburn.</figcaption>\n",
        "</figure>\n",
        "\n",
        "It is hypothesized that the oxygen-balance of the explosive is inversely proportional to the positive phase duration and incident impulse in that scaled distances range.  To test this theory this study will measure the peak pressure, impulse, positive phase duration and time of arrival for hemispherical surface bursts of three explosives with increasing oxygen balance (TNT, PETN, and Dyno AP).  To provide for a consistent surface for the measurement of the blast parameters, the charge will be initiated on a steel table with the transducers embedded in the plate.  This analysis will be used to support the table design parameters.\n",
        "\n",
        "The table will be $8\\:ft$ x $4\\:ft$ x $1\\:in$.  The $1\\:lb$ hemispherical charge will be centered in the sheet on top of a $1\\:ft$ x $1\\:ft$ x $1\\:in$ sacrificial steel plate.  Pressure transducers and a visible light spectrometer (fiber optic cable) will be positioned along the long axis of the table.  The ten pressure transducers will be spaced between a scaled distance of $1.00\\:\\frac{ft}{\\sqrt[3]{lb}}$ and $5.00\\:\\frac{ft}{\\sqrt[3]{lb}}$.  The spectrometer fiber optic cable will be positioned at approximately $1.00\\:\\frac{ft}{\\sqrt[3]{lb}}$.\n",
        "\n",
        "The positioning of the pressure transducers is based upon the inflection point that appears in the Kingery-Bulmash time-of-arrival model between $1.00\\frac{ft}{\\sqrt[3]{lb}}$ and $5.00\\frac{ft}{\\sqrt[3]{lb}}$.  The peak of the inflection point appears a approximately $3.00\\frac{ft}{\\sqrt[3]{lb}}$.  It is hypothesized that this peak represents the maximum afterburn and should therefore present a good location to attempt to measure the temperature. "
      ]
    },
    {
      "cell_type": "markdown",
      "metadata": {
        "id": "aPxO97w8qift",
        "colab_type": "text"
      },
      "source": [
        "### Notebook Imports"
      ]
    },
    {
      "cell_type": "code",
      "metadata": {
        "id": "YmKFHaZ6qifu",
        "colab_type": "code",
        "colab": {
          "base_uri": "https://localhost:8080/",
          "height": 17
        },
        "outputId": "f675de9a-18be-4dce-dfac-48093159b097"
      },
      "source": [
        "\n",
        "# Data manipulation\n",
        "import pandas as pd\n",
        "import numpy as np\n",
        "\n",
        "# Options for pandas\n",
        "pd.options.display.max_columns = 50\n",
        "pd.options.display.max_rows = 30\n",
        "\n",
        "# Display all cell outputs\n",
        "from IPython.core.interactiveshell import InteractiveShell\n",
        "InteractiveShell.ast_node_interactivity = 'all'\n",
        "\n",
        "from IPython import get_ipython\n",
        "ipython = get_ipython()\n",
        "\n",
        "# autoreload extension\n",
        "if 'autoreload' not in ipython.extension_manager.loaded:\n",
        "    %load_ext autoreload\n",
        "\n",
        "%autoreload 2\n",
        "\n",
        "#!pip install pint\n",
        "from pint import UnitRegistry\n",
        "ur = UnitRegistry()\n",
        "\n",
        "import cufflinks as cf\n",
        "cf.go_offline(connected=True)\n",
        "cf.set_config_file(theme='white')"
      ],
      "execution_count": 4,
      "outputs": [
        {
          "output_type": "display_data",
          "data": {
            "text/html": [
              "        <script type=\"text/javascript\">\n",
              "        window.PlotlyConfig = {MathJaxConfig: 'local'};\n",
              "        if (window.MathJax) {MathJax.Hub.Config({SVG: {font: \"STIX-Web\"}});}\n",
              "        if (typeof require !== 'undefined') {\n",
              "        require.undef(\"plotly\");\n",
              "        requirejs.config({\n",
              "            paths: {\n",
              "                'plotly': ['https://cdn.plot.ly/plotly-latest.min']\n",
              "            }\n",
              "        });\n",
              "        require(['plotly'], function(Plotly) {\n",
              "            window._Plotly = Plotly;\n",
              "        });\n",
              "        }\n",
              "        </script>\n",
              "        "
            ]
          },
          "metadata": {
            "tags": []
          }
        }
      ]
    },
    {
      "cell_type": "markdown",
      "metadata": {
        "id": "cLYV_bEXqifx",
        "colab_type": "text"
      },
      "source": [
        "## Calculations for 0.5lb Charge\n",
        "\n",
        "Given the costs associated with 3D printing, explosives, and table manufacturing a smaller charge weight should be considered.  In order to determine the impacts a smaller charge weight would have, I would like to calculate the following for a $0.5lb$ charge weight:\n",
        "- distance from the charge center of each of the six (6) transducers.\n",
        "- distance from the charge center of the fiber optic probe.\n",
        "- charge volume required for a $0.5lb$ charge of cast TNT ($1.5g/cc$), powdered PETN ($0.88g/cc$), and Dyno AP ($1.5g/cc$)."
      ]
    },
    {
      "cell_type": "code",
      "metadata": {
        "id": "u3u0p5Xoqify",
        "colab_type": "code",
        "colab": {}
      },
      "source": [
        "x1 = (9+17/32)*ur.inch\n",
        "x2 = x1 + (7+5/8)*ur.inch\n",
        "x3 = x2 + (7+5/8)*ur.inch\n",
        "x4 = x3 + (7+5/8)*ur.inch\n",
        "x5 = x4 + (7+5/8)*ur.inch\n",
        "x6 = x5 + (7+5/8)*ur.inch"
      ],
      "execution_count": 0,
      "outputs": []
    },
    {
      "cell_type": "code",
      "metadata": {
        "id": "R0WjYwkVxuhU",
        "colab_type": "code",
        "colab": {
          "base_uri": "https://localhost:8080/",
          "height": 119
        },
        "outputId": "91bb9e5e-0732-41d7-b14f-eb1f361fb3f0"
      },
      "source": [
        "print(\"x1 = {:.2f}\".format(x1.to('ft')))\n",
        "print(\"x2 = {:.2f}\".format(x2.to('ft')))\n",
        "print(\"x3 = {:.2f}\".format(x3.to('ft')))\n",
        "print(\"x4 = {:.2f}\".format(x4.to('ft')))\n",
        "print(\"x5 = {:.2f}\".format(x5.to('ft')))\n",
        "print(\"x6 = {:.2f}\".format(x6.to('ft')))"
      ],
      "execution_count": 14,
      "outputs": [
        {
          "output_type": "stream",
          "text": [
            "x1 = 0.79 foot\n",
            "x2 = 1.43 foot\n",
            "x3 = 2.07 foot\n",
            "x4 = 2.70 foot\n",
            "x5 = 3.34 foot\n",
            "x6 = 3.97 foot\n"
          ],
          "name": "stdout"
        }
      ]
    }
  ]
}