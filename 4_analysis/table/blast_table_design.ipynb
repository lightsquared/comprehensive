{
  "nbformat": 4,
  "nbformat_minor": 0,
  "metadata": {
    "kernelspec": {
      "display_name": "Python 3",
      "language": "python",
      "name": "python3"
    },
    "language_info": {
      "codemirror_mode": {
        "name": "ipython",
        "version": 3
      },
      "file_extension": ".py",
      "mimetype": "text/x-python",
      "name": "python",
      "nbconvert_exporter": "python",
      "pygments_lexer": "ipython3",
      "version": "3.7.3"
    },
    "colab": {
      "name": "blast_table_design.ipynb",
      "provenance": [],
      "toc_visible": true,
      "include_colab_link": true
    }
  },
  "cells": [
    {
      "cell_type": "markdown",
      "metadata": {
        "id": "view-in-github",
        "colab_type": "text"
      },
      "source": [
        "<a href=\"https://colab.research.google.com/github/lightsquared/comprehensive/blob/master/4_analysis/table/blast_table_design.ipynb\" target=\"_parent\"><img src=\"https://colab.research.google.com/assets/colab-badge.svg\" alt=\"Open In Colab\"/></a>"
      ]
    },
    {
      "cell_type": "markdown",
      "metadata": {
        "id": "Aqeu19zyqifs",
        "colab_type": "text"
      },
      "source": [
        "# Analysis to Determine Pressure Transducer Locations and Charge Size.\n",
        "S. Kevin McNeill\n",
        "\n",
        "shonn.mcneill@atf.gov\n",
        "\n",
        "Version 1.1: Calculated the distance between transducers.\n",
        "\n",
        "Date: 5/7/2020"
      ]
    },
    {
      "cell_type": "markdown",
      "metadata": {
        "id": "YOS9QLyQqift",
        "colab_type": "text"
      },
      "source": [
        "## Introduction\n",
        "When examining the Kingery-Bulmash models and data for incident impulse and positive phase duration an interesting inflection point is observed between a scaled distance of $1.00\\frac{ft}{\\sqrt[3]{lb}}$ and $5.00\\frac{ft}{\\sqrt[3]{lb}}$, see Figure 1.\n",
        "\n",
        "<figure>\n",
        "  <img src=\"https://drive.google.com/uc?id=13pJnNq60IVKsOpygo2d186LfqpJOvXdb\" alt=\"Positive Phase Duration\" style=\"width:100%\">\n",
        "  <figcaption align=\"center\"> Figure 1 - Kingery-Bulmash model with data.  Note that the nuclear data does not show the inflection point.  This is consistent with the theory as a nuclear blast would not generate excess fuel for afterburn.</figcaption>\n",
        "</figure>\n",
        "\n",
        "It is hypothesized that the oxygen-balance of the explosive is inversely proportional to the positive phase duration and incident impulse in that scaled distances range.  To test this theory this study will measure the peak pressure, impulse, positive phase duration and time of arrival for hemispherical surface bursts of three explosives with increasing oxygen balance (TNT, PETN, and Dyno AP).  To provide for a consistent surface for the measurement of the blast parameters, the charge will be initiated on a steel table with the transducers embedded in the plate.  This analysis will be used to support the table design parameters.\n",
        "\n",
        "The table will be $8\\:ft$ x $4\\:ft$ x $1\\:in$.  The $1\\:lb$ hemispherical charge will be centered in the sheet on top of a $1\\:ft$ x $1\\:ft$ x $1\\:in$ sacrificial steel plate.  Pressure transducers and a visible light spectrometer (fiber optic cable) will be positioned along the long axis of the table.  The ten pressure transducers will be spaced between a scaled distance of $1.00\\:\\frac{ft}{\\sqrt[3]{lb}}$ and $5.00\\:\\frac{ft}{\\sqrt[3]{lb}}$.  The spectrometer fiber optic cable will be positioned at approximately $1.00\\:\\frac{ft}{\\sqrt[3]{lb}}$.\n",
        "\n",
        "The positioning of the pressure transducers is based upon the inflection point that appears in the Kingery-Bulmash time-of-arrival model between $1.00\\frac{ft}{\\sqrt[3]{lb}}$ and $5.00\\frac{ft}{\\sqrt[3]{lb}}$.  The peak of the inflection point appears a approximately $3.00\\frac{ft}{\\sqrt[3]{lb}}$.  It is hypothesized that this peak represents the maximum afterburn and should therefore present a good location to attempt to measure the temperature. "
      ]
    },
    {
      "cell_type": "markdown",
      "metadata": {
        "id": "aPxO97w8qift",
        "colab_type": "text"
      },
      "source": [
        "### Notebook Imports"
      ]
    },
    {
      "cell_type": "code",
      "metadata": {
        "id": "YmKFHaZ6qifu",
        "colab_type": "code",
        "outputId": "a98abbd2-ca5a-4f62-a5c7-ff5673bc8ace",
        "colab": {
          "base_uri": "https://localhost:8080/",
          "height": 17
        }
      },
      "source": [
        "\n",
        "# Data manipulation\n",
        "import pandas as pd\n",
        "import numpy as np\n",
        "\n",
        "# Options for pandas\n",
        "pd.options.display.max_columns = 50\n",
        "pd.options.display.max_rows = 30\n",
        "\n",
        "# Display all cell outputs\n",
        "from IPython.core.interactiveshell import InteractiveShell\n",
        "InteractiveShell.ast_node_interactivity = 'all'\n",
        "\n",
        "from IPython import get_ipython\n",
        "ipython = get_ipython()\n",
        "\n",
        "# autoreload extension\n",
        "if 'autoreload' not in ipython.extension_manager.loaded:\n",
        "    %load_ext autoreload\n",
        "\n",
        "%autoreload 2\n",
        "\n",
        "#!pip install pint\n",
        "from pint import UnitRegistry\n",
        "ur = UnitRegistry()\n",
        "\n",
        "import cufflinks as cf\n",
        "cf.go_offline(connected=True)\n",
        "cf.set_config_file(theme='white')"
      ],
      "execution_count": 4,
      "outputs": [
        {
          "output_type": "display_data",
          "data": {
            "text/html": [
              "        <script type=\"text/javascript\">\n",
              "        window.PlotlyConfig = {MathJaxConfig: 'local'};\n",
              "        if (window.MathJax) {MathJax.Hub.Config({SVG: {font: \"STIX-Web\"}});}\n",
              "        if (typeof require !== 'undefined') {\n",
              "        require.undef(\"plotly\");\n",
              "        requirejs.config({\n",
              "            paths: {\n",
              "                'plotly': ['https://cdn.plot.ly/plotly-latest.min']\n",
              "            }\n",
              "        });\n",
              "        require(['plotly'], function(Plotly) {\n",
              "            window._Plotly = Plotly;\n",
              "        });\n",
              "        }\n",
              "        </script>\n",
              "        "
            ]
          },
          "metadata": {
            "tags": []
          }
        }
      ]
    },
    {
      "cell_type": "markdown",
      "metadata": {
        "id": "cLYV_bEXqifx",
        "colab_type": "text"
      },
      "source": [
        "## Calculations for 0.5lb Charge\n",
        "\n",
        "Given the costs associated with 3D printing, explosives, and table manufacturing a smaller charge weight should be considered.  In order to determine the impacts a smaller charge weight would have, I would like to calculate the following for a $0.5lb$ charge weight:\n",
        "- distance from the charge center of each of the six (6) transducers assuming we start at a scaled distance of $1.0\\:\\frac{ft}{lb^{(1/3)}}$ and end at $5.0\\:\\frac{ft}{lb^{(1/3)}}$."
      ]
    },
    {
      "cell_type": "markdown",
      "metadata": {
        "id": "fkzkxLXJVn5d",
        "colab_type": "text"
      },
      "source": [
        "## The Range of Scaled Distance"
      ]
    },
    {
      "cell_type": "code",
      "metadata": {
        "id": "uXSCnfszeH_h",
        "colab_type": "code",
        "outputId": "fe80674b-456a-483b-c51b-040661751454",
        "colab": {
          "base_uri": "https://localhost:8080/",
          "height": 85
        }
      },
      "source": [
        "wt = 0.5*ur.lb\n",
        "sd_min = 1\n",
        "sd_max = 5\n",
        "num_transducers = 6\n",
        "d_between_transducers = (sd_max - sd_min)/(num_transducers-1)*ur.ft/ur.lb**(1/3)\n",
        "print('The scaled-distance between transducrs is {:.2f~P}'.format(d_between_transducers))\n",
        "print('The scaled-distance between transducrs is {:.2f~P}'.format(d_between_transducers.to_base_units()))\n",
        "print('The distance between transducrs is {:.3f~P}'.format((d_between_transducers*wt**(1/3)).to('in')))\n",
        "print('The distance between transducrs is {:.3f~P}'.format((d_between_transducers*wt**(1/3)).to('mm')))"
      ],
      "execution_count": 5,
      "outputs": [
        {
          "output_type": "stream",
          "text": [
            "The scaled-distance between transducrs is 0.80 ft/lb⁰.³³³³³³\n",
            "The scaled-distance between transducrs is 0.32 m/kg⁰.³³³³³³\n",
            "The distance between transducrs is 7.620 in\n",
            "The distance between transducrs is 193.536 mm\n"
          ],
          "name": "stdout"
        }
      ]
    },
    {
      "cell_type": "markdown",
      "metadata": {
        "id": "W1d9gneZVjy8",
        "colab_type": "text"
      },
      "source": [
        "## Positions of Each Transducer"
      ]
    },
    {
      "cell_type": "code",
      "metadata": {
        "id": "jcKeOiB7c3_z",
        "colab_type": "code",
        "colab": {}
      },
      "source": [
        "sd1 = 1.00*ur.ft/ur.lb**(1/3)\n",
        "sd2 = (sd1+d_between_transducers)\n",
        "sd3 = (sd2+d_between_transducers)\n",
        "sd4 = (sd3+d_between_transducers)\n",
        "sd5 = (sd4+d_between_transducers)\n",
        "sd6 = (sd5+d_between_transducers)"
      ],
      "execution_count": 0,
      "outputs": []
    },
    {
      "cell_type": "code",
      "metadata": {
        "id": "u3u0p5Xoqify",
        "colab_type": "code",
        "colab": {}
      },
      "source": [
        "x1 = sd1*wt**(1/3)\n",
        "x2 = sd2*wt**(1/3)\n",
        "x3 = sd3*wt**(1/3)\n",
        "x4 = sd4*wt**(1/3)\n",
        "x5 = sd5*wt**(1/3)\n",
        "x6 = sd6*wt**(1/3)"
      ],
      "execution_count": 0,
      "outputs": []
    },
    {
      "cell_type": "code",
      "metadata": {
        "id": "R0WjYwkVxuhU",
        "colab_type": "code",
        "outputId": "bea9fa08-17e1-4cba-9d78-9bbfd6c21643",
        "colab": {
          "base_uri": "https://localhost:8080/",
          "height": 119
        }
      },
      "source": [
        "print(\"x1 = {:.3f~P} ({:.3f~P})\".format(x1.to('in'),x1.to('mm')))\n",
        "print(\"x2 = {:.3f~P} ({:.3f~P})\".format(x2.to('in'),x2.to('mm')))\n",
        "print(\"x3 = {:.3f~P} ({:.3f~P})\".format(x3.to('in'),x3.to('mm')))\n",
        "print(\"x4 = {:.3f~P} ({:.3f~P})\".format(x4.to('in'),x4.to('mm')))\n",
        "print(\"x5 = {:.3f~P} ({:.3f~P})\".format(x5.to('in'),x5.to('mm')))\n",
        "print(\"x6 = {:.3f~P} ({:.3f~P})\".format(x6.to('in'),x6.to('mm')))"
      ],
      "execution_count": 8,
      "outputs": [
        {
          "output_type": "stream",
          "text": [
            "x1 = 9.524 in (241.920 mm)\n",
            "x2 = 17.144 in (435.456 mm)\n",
            "x3 = 24.763 in (628.992 mm)\n",
            "x4 = 32.383 in (822.528 mm)\n",
            "x5 = 40.003 in (1016.064 mm)\n",
            "x6 = 47.622 in (1209.600 mm)\n"
          ],
          "name": "stdout"
        }
      ]
    }
  ]
}