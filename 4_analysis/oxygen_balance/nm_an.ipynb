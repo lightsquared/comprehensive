{
  "cells": [
    {
      "cell_type": "markdown",
      "source": [
        "# Oxygen Balance of Ammonium Nitrate and Niromethane\n",
        "## S. Kevin McNeill\n",
        "2019-02-01\n",
        "### Goal\n",
        "The objective of this calculation is to determine the oxygen balance of a  detonation reaction between ammonium nitrate (AN) ($NH_4NO_2$) and nitromethane (NM) ($2CH_3NO_2$).  The patent for the [Kinepak](https://patentimages.storage.googleapis.com/bb/a3/83/01a881cf9318f3/US3718512.pdf) refers to a mixture of $83\\:g$ of AN and $35\\:g$ of NM.\n",
        "\n",
        "We know that AN has a molar density of $80.04336\\:g/mol$ therefore, $83\\:g$ of AN equates to $1.03694\\:mol$ of AN.  NM has a molar density $61.04\\:g/mol$ therefore, $35\\:g$ of NM equates to $0.57339\\:mol$ of NM.\n",
        "\n",
        "The chemial reaction of AN and NM is given by,\n",
        "\n$$NH_4NO_2 + 2CH_3NO_2 \\longrightarrow ?$$"
      ],
      "metadata": {
        "collapsed": false,
        "outputHidden": false,
        "inputHidden": false
      }
    }
  ],
  "metadata": {
    "kernel_info": {
      "name": "python3"
    },
    "language_info": {
      "name": "python",
      "version": "3.6.8",
      "mimetype": "text/x-python",
      "codemirror_mode": {
        "name": "ipython",
        "version": 3
      },
      "pygments_lexer": "ipython3",
      "nbconvert_exporter": "python",
      "file_extension": ".py"
    },
    "kernelspec": {
      "name": "python3",
      "language": "python",
      "display_name": "Python 3"
    },
    "nteract": {
      "version": "0.12.3"
    }
  },
  "nbformat": 4,
  "nbformat_minor": 4
}