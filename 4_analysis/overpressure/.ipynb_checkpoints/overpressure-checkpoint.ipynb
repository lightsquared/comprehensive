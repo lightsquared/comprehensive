version https://git-lfs.github.com/spec/v1
oid sha256:9a8e72791412096e70e5f501fe9ead7a55f0f3e80ab57c0cc3ce23fa8fe157ff
size 75760
